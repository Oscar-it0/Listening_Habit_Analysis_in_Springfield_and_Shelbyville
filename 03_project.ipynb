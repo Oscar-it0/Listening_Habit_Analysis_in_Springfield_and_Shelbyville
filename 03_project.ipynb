{
 "cells": [
  {
   "cell_type": "markdown",
   "metadata": {},
   "source": [
    "**Comentario del Revisor**\n",
    "\n",
    "Hola!\n",
    "\n",
    "Soy Juan Manuel Romero, pero siéntete libre de llamarme Juanma. Soy code reviewer en Tripleten y hoy estaré revisando tu entrega.\n",
    "\n",
    "Para simular la dinámica de un ambiente de trabajo, si veo algún error, en primer instancia solo los señalaré, dándote la oportunidad de encontrarlos y corregirlos por tu cuenta. En un trabajo real, el líder de tu equipo hará una dinámica similar. En caso de que no puedas resolver la tarea, te daré una información más precisa en la próxima revisión. \n",
    "\n",
    "Solo un aviso rápido: cuando estés revisando el proyecto, por favor deja mis comentarios originales tal como están. De esta manera, podemos seguir fácilmente el progreso y asegurarnos de que no se nos pase nada por alto. Y, si realizas algún cambio basado en mis comentarios, sería genial si pudieras resaltar esas actualizaciones para que se destaquen.\n",
    "\n",
    "Puedes encontrar mis comentarios en cajas verdes, amarillas o rojas como estas:\n",
    "\n",
    "<div class=\"alert alert-block alert-success\"> \n",
    "<b>Comentario del Revisor</b> <a class=\"tocSkip\"></a>\n",
    "\n",
    "Éxito. Todo se ha hecho correctamente.\n",
    "\n",
    "</div>\n",
    "\n",
    "\n",
    "<div class=\"alert alert-block alert-warning\"> \n",
    "<b>Comentario del Revisor</b> <a class=\"tocSkip\"></a>\n",
    "\n",
    "Observaciones. Algunas recomendaciones.\n",
    "\n",
    "</div> \n",
    "\n",
    "\n",
    "<div class=\"alert alert-block alert-danger\">\n",
    "<b>Comentario del Revisor</b> <a class=\"tocSkip\"></a>\n",
    "\n",
    "Requiere corrección. El bloque requiere algunas correcciones. El trabajo no puede ser aceptado con los comentarios en rojo.\n",
    "\n",
    "</div>\n",
    "\n",
    "Puedes responderme usando esto:\n",
    "\n",
    "<div class=\"alert alert-block alert-info\"> <b>Respuesta del estudiante.</b> <a class=\"tocSkip\"></a> </div>"
   ]
  },
  {
   "cell_type": "markdown",
   "metadata": {
    "id": "E0vqbgi9ay0H"
   },
   "source": [
    "# Déjame escuchar la música"
   ]
  },
  {
   "cell_type": "markdown",
   "metadata": {
    "id": "fhq_eyov_Zcs"
   },
   "source": [
    "# Contenido <a id='back'></a>\n",
    "\n",
    "* [Introducción](#intro)\n",
    "* [Etapa 1. Descripción de los datos](#data_review)\n",
    "    * [Conclusiones](#data_review_conclusions)\n",
    "* [Etapa 2. Preprocesamiento de datos](#data_preprocessing)\n",
    "    * [2.1 Estilo del encabezado](#header_style)\n",
    "    * [2.2 Valores ausentes](#missing_values)\n",
    "    * [2.3 Duplicados](#duplicates)\n",
    "    * [2.4 Conclusiones](#data_preprocessing_conclusions)\n",
    "* [Etapa 3. Prueba de hipótesis](#hypothesis)\n",
    "    * [3.1 Hipótesis 1: actividad de los usuarios y las usuarias en las dos ciudades](#activity)\n",
    "* [Conclusiones](#end)"
   ]
  },
  {
   "cell_type": "markdown",
   "metadata": {
    "id": "VUC88oWjTJw2"
   },
   "source": [
    "## Introducción <a id='intro'></a>\n",
    "Como analista de datos, tu trabajo consiste en analizar datos para extraer información valiosa y tomar decisiones basadas en ellos. Esto implica diferentes etapas, como la descripción general de los datos, el preprocesamiento y la prueba de hipótesis.\n",
    "\n",
    "Siempre que investigamos, necesitamos formular hipótesis que después podamos probar. A veces aceptamos estas hipótesis; otras veces, las rechazamos. Para tomar las decisiones correctas, una empresa debe ser capaz de entender si está haciendo las suposiciones correctas.\n",
    "\n",
    "En este proyecto, compararás las preferencias musicales de las ciudades de Springfield y Shelbyville. Estudiarás datos reales de transmisión de música online para probar la hipótesis a continuación y comparar el comportamiento de los usuarios y las usuarias de estas dos ciudades.\n",
    "\n",
    "### Objetivo:\n",
    "Prueba la hipótesis:\n",
    "1. La actividad de los usuarios y las usuarias difiere según el día de la semana y dependiendo de la ciudad.\n",
    "\n",
    "\n",
    "### Etapas\n",
    "Los datos del comportamiento del usuario se almacenan en el archivo `/datasets/music_project_en.csv`. No hay ninguna información sobre la calidad de los datos, así que necesitarás examinarlos antes de probar la hipótesis.\n",
    "\n",
    "Primero, evaluarás la calidad de los datos y verás si los problemas son significativos. Entonces, durante el preprocesamiento de datos, tomarás en cuenta los problemas más críticos.\n",
    "\n",
    "Tu proyecto consistirá en tres etapas:\n",
    " 1. Descripción de los datos.\n",
    " 2. Preprocesamiento de datos.\n",
    " 3. Prueba de hipótesis.\n",
    "\n",
    "\n",
    "\n",
    "\n",
    "\n",
    "\n"
   ]
  },
  {
   "cell_type": "markdown",
   "metadata": {
    "id": "hDt6pg-Rw-1U"
   },
   "source": [
    "[Volver a Contenidos](#back)"
   ]
  },
  {
   "cell_type": "markdown",
   "metadata": {
    "id": "Ml1hmfXC_Zcs"
   },
   "source": [
    "## Etapa 1. Descripción de los datos <a id='data_review'></a>\n",
    "\n",
    "Abre los datos y examínalos."
   ]
  },
  {
   "cell_type": "markdown",
   "metadata": {
    "id": "57eAOGIz_Zcs"
   },
   "source": [
    "Necesitarás `pandas`, así que impórtalo."
   ]
  },
  {
   "cell_type": "code",
   "execution_count": 1,
   "metadata": {
    "id": "AXN7PHPN_Zcs"
   },
   "outputs": [],
   "source": [
    "# Importar pandas\n",
    "import pandas as pd"
   ]
  },
  {
   "cell_type": "markdown",
   "metadata": {
    "id": "SG23P8tt_Zcs"
   },
   "source": [
    "Lee el archivo `music_project_en.csv` de la carpeta `/datasets/` y guárdalo en la variable `df`:"
   ]
  },
  {
   "cell_type": "code",
   "execution_count": 2,
   "metadata": {
    "id": "fFVu7vqh_Zct"
   },
   "outputs": [],
   "source": [
    "# Leer el archivo y almacenarlo en df\n",
    "df=pd.read_csv('/datasets/music_project_en.csv')"
   ]
  },
  {
   "cell_type": "markdown",
   "metadata": {
    "id": "rDoOMd3uTqnZ"
   },
   "source": [
    "Muestra las 10 primeras filas de la tabla:"
   ]
  },
  {
   "cell_type": "code",
   "execution_count": 3,
   "metadata": {
    "id": "oWTVX3gW_Zct"
   },
   "outputs": [
    {
     "data": {
      "text/html": [
       "<div>\n",
       "<style scoped>\n",
       "    .dataframe tbody tr th:only-of-type {\n",
       "        vertical-align: middle;\n",
       "    }\n",
       "\n",
       "    .dataframe tbody tr th {\n",
       "        vertical-align: top;\n",
       "    }\n",
       "\n",
       "    .dataframe thead th {\n",
       "        text-align: right;\n",
       "    }\n",
       "</style>\n",
       "<table border=\"1\" class=\"dataframe\">\n",
       "  <thead>\n",
       "    <tr style=\"text-align: right;\">\n",
       "      <th></th>\n",
       "      <th>userID</th>\n",
       "      <th>Track</th>\n",
       "      <th>artist</th>\n",
       "      <th>genre</th>\n",
       "      <th>City</th>\n",
       "      <th>time</th>\n",
       "      <th>Day</th>\n",
       "    </tr>\n",
       "  </thead>\n",
       "  <tbody>\n",
       "    <tr>\n",
       "      <th>0</th>\n",
       "      <td>FFB692EC</td>\n",
       "      <td>Kamigata To Boots</td>\n",
       "      <td>The Mass Missile</td>\n",
       "      <td>rock</td>\n",
       "      <td>Shelbyville</td>\n",
       "      <td>20:28:33</td>\n",
       "      <td>Wednesday</td>\n",
       "    </tr>\n",
       "    <tr>\n",
       "      <th>1</th>\n",
       "      <td>55204538</td>\n",
       "      <td>Delayed Because of Accident</td>\n",
       "      <td>Andreas Rönnberg</td>\n",
       "      <td>rock</td>\n",
       "      <td>Springfield</td>\n",
       "      <td>14:07:09</td>\n",
       "      <td>Friday</td>\n",
       "    </tr>\n",
       "    <tr>\n",
       "      <th>2</th>\n",
       "      <td>20EC38</td>\n",
       "      <td>Funiculì funiculà</td>\n",
       "      <td>Mario Lanza</td>\n",
       "      <td>pop</td>\n",
       "      <td>Shelbyville</td>\n",
       "      <td>20:58:07</td>\n",
       "      <td>Wednesday</td>\n",
       "    </tr>\n",
       "    <tr>\n",
       "      <th>3</th>\n",
       "      <td>A3DD03C9</td>\n",
       "      <td>Dragons in the Sunset</td>\n",
       "      <td>Fire + Ice</td>\n",
       "      <td>folk</td>\n",
       "      <td>Shelbyville</td>\n",
       "      <td>08:37:09</td>\n",
       "      <td>Monday</td>\n",
       "    </tr>\n",
       "    <tr>\n",
       "      <th>4</th>\n",
       "      <td>E2DC1FAE</td>\n",
       "      <td>Soul People</td>\n",
       "      <td>Space Echo</td>\n",
       "      <td>dance</td>\n",
       "      <td>Springfield</td>\n",
       "      <td>08:34:34</td>\n",
       "      <td>Monday</td>\n",
       "    </tr>\n",
       "    <tr>\n",
       "      <th>5</th>\n",
       "      <td>842029A1</td>\n",
       "      <td>Chains</td>\n",
       "      <td>Obladaet</td>\n",
       "      <td>rusrap</td>\n",
       "      <td>Shelbyville</td>\n",
       "      <td>13:09:41</td>\n",
       "      <td>Friday</td>\n",
       "    </tr>\n",
       "    <tr>\n",
       "      <th>6</th>\n",
       "      <td>4CB90AA5</td>\n",
       "      <td>True</td>\n",
       "      <td>Roman Messer</td>\n",
       "      <td>dance</td>\n",
       "      <td>Springfield</td>\n",
       "      <td>13:00:07</td>\n",
       "      <td>Wednesday</td>\n",
       "    </tr>\n",
       "    <tr>\n",
       "      <th>7</th>\n",
       "      <td>F03E1C1F</td>\n",
       "      <td>Feeling This Way</td>\n",
       "      <td>Polina Griffith</td>\n",
       "      <td>dance</td>\n",
       "      <td>Springfield</td>\n",
       "      <td>20:47:49</td>\n",
       "      <td>Wednesday</td>\n",
       "    </tr>\n",
       "    <tr>\n",
       "      <th>8</th>\n",
       "      <td>8FA1D3BE</td>\n",
       "      <td>L’estate</td>\n",
       "      <td>Julia Dalia</td>\n",
       "      <td>ruspop</td>\n",
       "      <td>Springfield</td>\n",
       "      <td>09:17:40</td>\n",
       "      <td>Friday</td>\n",
       "    </tr>\n",
       "    <tr>\n",
       "      <th>9</th>\n",
       "      <td>E772D5C0</td>\n",
       "      <td>Pessimist</td>\n",
       "      <td>NaN</td>\n",
       "      <td>dance</td>\n",
       "      <td>Shelbyville</td>\n",
       "      <td>21:20:49</td>\n",
       "      <td>Wednesday</td>\n",
       "    </tr>\n",
       "  </tbody>\n",
       "</table>\n",
       "</div>"
      ],
      "text/plain": [
       "     userID                        Track            artist   genre  \\\n",
       "0  FFB692EC            Kamigata To Boots  The Mass Missile    rock   \n",
       "1  55204538  Delayed Because of Accident  Andreas Rönnberg    rock   \n",
       "2    20EC38            Funiculì funiculà       Mario Lanza     pop   \n",
       "3  A3DD03C9        Dragons in the Sunset        Fire + Ice    folk   \n",
       "4  E2DC1FAE                  Soul People        Space Echo   dance   \n",
       "5  842029A1                       Chains          Obladaet  rusrap   \n",
       "6  4CB90AA5                         True      Roman Messer   dance   \n",
       "7  F03E1C1F             Feeling This Way   Polina Griffith   dance   \n",
       "8  8FA1D3BE                     L’estate       Julia Dalia  ruspop   \n",
       "9  E772D5C0                    Pessimist               NaN   dance   \n",
       "\n",
       "        City        time        Day  \n",
       "0  Shelbyville  20:28:33  Wednesday  \n",
       "1  Springfield  14:07:09     Friday  \n",
       "2  Shelbyville  20:58:07  Wednesday  \n",
       "3  Shelbyville  08:37:09     Monday  \n",
       "4  Springfield  08:34:34     Monday  \n",
       "5  Shelbyville  13:09:41     Friday  \n",
       "6  Springfield  13:00:07  Wednesday  \n",
       "7  Springfield  20:47:49  Wednesday  \n",
       "8  Springfield  09:17:40     Friday  \n",
       "9  Shelbyville  21:20:49  Wednesday  "
      ]
     },
     "execution_count": 3,
     "metadata": {},
     "output_type": "execute_result"
    }
   ],
   "source": [
    "# Obtener las 10 primeras filas de la tabla df\n",
    "df.head(10)"
   ]
  },
  {
   "cell_type": "markdown",
   "metadata": {
    "id": "EO73Kwic_Zct"
   },
   "source": [
    "Obtén la información general sobre la tabla con un comando. Conoces el método que muestra la información general que necesitamos."
   ]
  },
  {
   "cell_type": "code",
   "execution_count": 4,
   "metadata": {
    "id": "DSf2kIb-_Zct"
   },
   "outputs": [
    {
     "name": "stdout",
     "output_type": "stream",
     "text": [
      "<class 'pandas.core.frame.DataFrame'>\n",
      "RangeIndex: 65079 entries, 0 to 65078\n",
      "Data columns (total 7 columns):\n",
      " #   Column    Non-Null Count  Dtype \n",
      "---  ------    --------------  ----- \n",
      " 0     userID  65079 non-null  object\n",
      " 1   Track     63736 non-null  object\n",
      " 2   artist    57512 non-null  object\n",
      " 3   genre     63881 non-null  object\n",
      " 4     City    65079 non-null  object\n",
      " 5   time      65079 non-null  object\n",
      " 6   Day       65079 non-null  object\n",
      "dtypes: object(7)\n",
      "memory usage: 3.5+ MB\n"
     ]
    }
   ],
   "source": [
    "# Obtener la información general sobre nuestros datos\n",
    "df.info()"
   ]
  },
  {
   "cell_type": "markdown",
   "metadata": {},
   "source": [
    "<div class=\"alert alert-block alert-success\"> \n",
    "<b>Comentario del Revisor #1</b> <a class=\"tocSkip\"></a>\n",
    "\n",
    "Excelente trabajo!\n",
    "\n",
    "</div>"
   ]
  },
  {
   "cell_type": "markdown",
   "metadata": {
    "id": "TaQ2Iwbr_Zct"
   },
   "source": [
    "Estas son nuestras observaciones sobre la tabla. Contiene siete columnas. Almacenan los mismos tipos de datos: `object`.\n",
    "\n",
    "Según la documentación:\n",
    "- `' userID'`: identificador del usuario o la usuaria;\n",
    "- `'Track'`: título de la canción;\n",
    "- `'artist'`: nombre del artista;\n",
    "- `'genre'`: género de la pista;\n",
    "- `'City'`: ciudad del usuario o la usuaria;\n",
    "- `'time'`: la hora exacta en la que se reprodujo la canción;\n",
    "- `'Day'`: día de la semana.\n",
    "\n",
    "Podemos ver tres problemas con el estilo en los encabezados de la tabla:\n",
    "1. Algunos encabezados están en mayúsculas, otros en minúsculas.\n",
    "2. Hay espacios en algunos encabezados.\n",
    "3. Es preferible utilizar snake_case.\n",
    "\n",
    "\n"
   ]
  },
  {
   "cell_type": "markdown",
   "metadata": {
    "id": "MCB6-dXG_Zct"
   },
   "source": [
    "### Escribe observaciones de tu parte. Estas son algunas de las preguntas que pueden ser útiles: <a id='data_review_conclusions'></a>\n",
    "\n",
    "`1.   ¿Qué tipo de datos tenemos a nuestra disposición en las filas? ¿Y cómo podemos entender lo que almacenan las columnas?`\n",
    "Las columnas de importancia relevante son ‘user_id’, ‘city’ y ‘day’, según el objetivo principal “La actividad de los usuarios y las usuarias difiere según el día de la semana y dependiendo de la ciudad”.\n",
    "Debemos considerar que el valor ‘time’ parece numérico pero no es un rango de tiempo sino la etiqueta de la hora específica en que se llevó a cabo la escucha.\n",
    "Podríamos revisar las columnas de ‘genre’ (no es prioridad para el presente caso), ‘city’ y ‘day’ para saber qué datos almacenan y si cuentan con errores ortográficos o diferente escritura del mismo género ciudad o día para corregir y unificar los listados de datos. Aunque quizá la recolección de datos de esta tabla sea obtenida de sistemas parametrizados y no por ingresos de los usuarios, no sea tan necesario un paso como éste.\n",
    "‘genre’ considera 268 géneros diferentes\n",
    "‘city’ sólo considera un total de 2 ciudades ['Shelbyville' 'Springfield']\n",
    "‘day’ considera 3 días ['Friday' 'Monday' 'Wednesday']\n",
    "\n",
    "\n",
    "`2.   ¿Hay suficientes datos para proporcionar respuestas a nuestra hipótesis o necesitamos más información?`\n",
    "Sí son suficientes\n",
    "\n",
    "No contamos con valores numéricos que tengamos que usar en operaciones aritméticas ya que, para los objetivos establecidos, no es necesario por lo que creo que mantener todas las columnas como ‘object’ es correcto. En caso de querer obtener información secundaria como la hora del día en que ocurren las reproducciones, se podría cambiar el tipo de dato de la columna a numérico con el fin de evaluar el momento del día, pero hasta ahora no es necesario.\n",
    "\n",
    "\n",
    "`3.   ¿Notaste algún problema en los datos, como valores ausentes, duplicados o tipos de datos incorrectos?`\n",
    "Las columnas ‘track’, ‘artist’ y ‘genre’ cuentan con valores ausentes. En las tres columnas podremos complementar los datos ausentes con algún dato aleatorio como ‘other’ ya que no interfieren para el objetivo principal.\n",
    "Determinar cuántas filas se duplican exactamente ya que no tendría sentido tener mas de una fila con el mismo usuario escuchando lo mismo a la misma hora, por lo que muy probablemente estás filas se deban desechar.\n",
    "Al parecer 3,826 líneas se encuentran duplicadas.\n",
    "Después de eliminar las líneas idénticas, se podrían determinar filas duplicadas considerando ‘user’ y ‘time’ ya que es muy poco probable el caso de escuchar dos pistas al mismo tiempo.\n"
   ]
  },
  {
   "cell_type": "markdown",
   "metadata": {},
   "source": [
    "<div class=\"alert alert-block alert-success\"> \n",
    "<b>Comentario del Revisor #1</b> <a class=\"tocSkip\"></a>\n",
    "\n",
    "Excelentes observaciones Oscar! Felicidades\n",
    "\n",
    "</div>"
   ]
  },
  {
   "cell_type": "markdown",
   "metadata": {
    "id": "3eL__vcwViOi"
   },
   "source": [
    "[Volver a Contenidos](#back)"
   ]
  },
  {
   "cell_type": "markdown",
   "metadata": {
    "id": "SjYF6Ub9_Zct"
   },
   "source": [
    "## Etapa 2. Preprocesamiento de datos <a id='data_preprocessing'></a>\n",
    "\n",
    "El objetivo aquí es preparar los datos para que sean analizados.\n",
    "El primer paso es resolver cualquier problema con los encabezados. Luego podemos avanzar a los valores ausentes y duplicados. Empecemos.\n",
    "\n",
    "Corrige el formato en los encabezados de la tabla.\n"
   ]
  },
  {
   "cell_type": "markdown",
   "metadata": {
    "id": "dIaKXr29_Zct"
   },
   "source": [
    "### Estilo del encabezado <a id='header_style'></a>\n",
    "Muestra los encabezados de la tabla (los nombres de las columnas):"
   ]
  },
  {
   "cell_type": "code",
   "execution_count": 5,
   "metadata": {
    "id": "oKOTdF_Q_Zct"
   },
   "outputs": [
    {
     "name": "stdout",
     "output_type": "stream",
     "text": [
      "Index(['  userID', 'Track', 'artist', 'genre', '  City  ', 'time', 'Day'], dtype='object')\n"
     ]
    }
   ],
   "source": [
    "# Muestra los nombres de las columnas\n",
    "print(df.columns)"
   ]
  },
  {
   "cell_type": "markdown",
   "metadata": {
    "id": "zj5534cv_Zct"
   },
   "source": [
    "Cambia los encabezados de la tabla de acuerdo con las reglas del buen estilo:\n",
    "* Todos los caracteres deben ser minúsculas.\n",
    "* Elimina los espacios.\n",
    "* Si el nombre tiene varias palabras, utiliza snake_case."
   ]
  },
  {
   "cell_type": "markdown",
   "metadata": {
    "id": "Xu0zkfe5zNJe"
   },
   "source": [
    "Anteriormente, aprendiste acerca de la forma automática de cambiar el nombre de las columnas. Vamos a aplicarla ahora. Utiliza el bucle for para iterar sobre los nombres de las columnas y poner todos los caracteres en minúsculas. Cuando hayas terminado, vuelve a mostrar los encabezados de la tabla:"
   ]
  },
  {
   "cell_type": "code",
   "execution_count": 6,
   "metadata": {
    "id": "6I_RwwMhzM4e"
   },
   "outputs": [
    {
     "name": "stdout",
     "output_type": "stream",
     "text": [
      "Index(['  userid', 'track', 'artist', 'genre', '  city  ', 'time', 'day'], dtype='object')\n"
     ]
    }
   ],
   "source": [
    "# Bucle en los encabezados poniendo todo en minúsculas\n",
    "new_column_name=[]\n",
    "for old_name in df.columns:\n",
    "    name_lowered=old_name.lower()\n",
    "    new_column_name.append(name_lowered)\n",
    "\n",
    "df.columns=new_column_name\n",
    "print(df.columns)"
   ]
  },
  {
   "cell_type": "markdown",
   "metadata": {
    "id": "pweIRxjSzPYW"
   },
   "source": [
    "Ahora, utilizando el mismo método, elimina los espacios al principio y al final de los nombres de las columnas e imprime los nombres de las columnas nuevamente:"
   ]
  },
  {
   "cell_type": "code",
   "execution_count": 7,
   "metadata": {
    "id": "vVQXbFyJzSYl"
   },
   "outputs": [
    {
     "name": "stdout",
     "output_type": "stream",
     "text": [
      "Index(['userid', 'track', 'artist', 'genre', 'city', 'time', 'day'], dtype='object')\n"
     ]
    }
   ],
   "source": [
    "# Bucle en los encabezados eliminando los espacios\n",
    "new_column_name_2=[]\n",
    "for old_name in df.columns:\n",
    "    name_stripped=old_name.strip()\n",
    "    new_column_name_2.append(name_stripped)\n",
    "\n",
    "df.columns=new_column_name_2\n",
    "print(df.columns)"
   ]
  },
  {
   "cell_type": "markdown",
   "metadata": {
    "id": "yCb8MW1JzURd"
   },
   "source": [
    "Necesitamos aplicar la regla de snake_case a la columna `userid`. Debe ser `user_id`. Cambia el nombre de esta columna y muestra los nombres de todas las columnas cuando hayas terminado."
   ]
  },
  {
   "cell_type": "code",
   "execution_count": 8,
   "metadata": {
    "id": "ISlFqs5y_Zct"
   },
   "outputs": [
    {
     "name": "stdout",
     "output_type": "stream",
     "text": [
      "Index(['user_id', 'track', 'artist', 'genre', 'city', 'time', 'day'], dtype='object')\n"
     ]
    }
   ],
   "source": [
    "# Cambiar el nombre de la columna \"userid\"\n",
    "columns_new={\n",
    "    'userid':'user_id',\n",
    "    'track':'track',\n",
    "    'artist':'artist',\n",
    "    'genre':'genre',\n",
    "    'city':'city',\n",
    "    'time':'time',\n",
    "    'day':'day',\n",
    "    }\n",
    "\n",
    "df.rename(columns=columns_new,inplace=True)\n",
    "print(df.columns)"
   ]
  },
  {
   "cell_type": "markdown",
   "metadata": {
    "id": "1dqbh00J_Zct"
   },
   "source": [
    "Comprueba el resultado. Muestra los encabezados una vez más:"
   ]
  },
  {
   "cell_type": "code",
   "execution_count": 9,
   "metadata": {
    "id": "d4NOAmTW_Zct"
   },
   "outputs": [
    {
     "name": "stdout",
     "output_type": "stream",
     "text": [
      "Index(['user_id', 'track', 'artist', 'genre', 'city', 'time', 'day'], dtype='object')\n"
     ]
    }
   ],
   "source": [
    "# Comprobar el resultado: la lista de encabezados\n",
    "print(df.columns)"
   ]
  },
  {
   "cell_type": "markdown",
   "metadata": {},
   "source": [
    "<div class=\"alert alert-block alert-success\"> \n",
    "<b>Comentario del Revisor #1</b> <a class=\"tocSkip\"></a>\n",
    "\n",
    "Impecable! Todo correcto\n",
    "\n",
    "</div>"
   ]
  },
  {
   "cell_type": "markdown",
   "metadata": {
    "id": "xYJk6ksJVpOl"
   },
   "source": [
    "[Volver a Contenidos](#back)"
   ]
  },
  {
   "cell_type": "markdown",
   "metadata": {
    "id": "5ISfbcfY_Zct"
   },
   "source": [
    "### Valores ausentes <a id='missing_values'></a>\n",
    " Primero, encuentra el número de valores ausentes en la tabla. Debes utilizar dos métodos en una secuencia para obtener el número de valores ausentes."
   ]
  },
  {
   "cell_type": "code",
   "execution_count": 10,
   "metadata": {
    "id": "RskX29qr_Zct"
   },
   "outputs": [
    {
     "name": "stdout",
     "output_type": "stream",
     "text": [
      "<class 'pandas.core.frame.DataFrame'>\n",
      "RangeIndex: 65079 entries, 0 to 65078\n",
      "Data columns (total 7 columns):\n",
      " #   Column   Non-Null Count  Dtype \n",
      "---  ------   --------------  ----- \n",
      " 0   user_id  65079 non-null  object\n",
      " 1   track    63736 non-null  object\n",
      " 2   artist   57512 non-null  object\n",
      " 3   genre    63881 non-null  object\n",
      " 4   city     65079 non-null  object\n",
      " 5   time     65079 non-null  object\n",
      " 6   day      65079 non-null  object\n",
      "dtypes: object(7)\n",
      "memory usage: 3.5+ MB\n",
      "Hay 1343 valores ausentes en track\n",
      "Hay 7567 valores ausentes en artist\n",
      "Hay 1198 valores ausentes en genre\n"
     ]
    }
   ],
   "source": [
    "# Calcular el número de valores ausentes\n",
    "df.info()\n",
    "print(\"Hay\",df['track'].isna().sum(),\"valores ausentes en track\")\n",
    "print(\"Hay\",df['artist'].isna().sum(),\"valores ausentes en artist\")\n",
    "print(\"Hay\",df['genre'].isna().sum(),\"valores ausentes en genre\")"
   ]
  },
  {
   "cell_type": "markdown",
   "metadata": {
    "id": "qubhgnlO_Zct"
   },
   "source": [
    "No todos los valores ausentes afectan a la investigación. Por ejemplo, los valores ausentes en `track` y `artist` no son cruciales. Simplemente puedes reemplazarlos con valores predeterminados como el string `'unknown'` (desconocido).\n",
    "\n",
    "Pero los valores ausentes en `'genre'` pueden afectar la comparación entre las preferencias musicales de Springfield y Shelbyville. En la vida real, sería útil saber las razones por las cuales hay datos ausentes e intentar recuperarlos. Pero no tenemos esa oportunidad en este proyecto. Así que tendrás que:\n",
    "* rellenar estos valores ausentes con un valor predeterminado;\n",
    "* evaluar cuánto podrían afectar los valores ausentes a tus cómputos;"
   ]
  },
  {
   "cell_type": "markdown",
   "metadata": {
    "id": "fSv2laPA_Zct"
   },
   "source": [
    "Reemplazar los valores ausentes en las columnas `'track'`, `'artist'` y `'genre'` con el string `'unknown'`. Como mostramos anteriormente en las lecciones, la mejor forma de hacerlo es crear una lista que almacene los nombres de las columnas donde se necesita el reemplazo. Luego, utiliza esta lista e itera sobre las columnas donde se necesita el reemplazo haciendo el propio reemplazo."
   ]
  },
  {
   "cell_type": "code",
   "execution_count": 11,
   "metadata": {
    "id": "KplB5qWs_Zct"
   },
   "outputs": [],
   "source": [
    "# Bucle en los encabezados reemplazando los valores ausentes con 'unknown'\n",
    "columns_to_replace = ['track','artist','genre']\n",
    "for col in columns_to_replace:\n",
    "    df[col].fillna('unknown',inplace=True)"
   ]
  },
  {
   "cell_type": "markdown",
   "metadata": {
    "id": "Ilsm-MZo_Zct"
   },
   "source": [
    "Ahora comprueba el resultado para asegurarte de que después del reemplazo no haya valores ausentes en el conjunto de datos. Para hacer esto, cuenta los valores ausentes nuevamente."
   ]
  },
  {
   "cell_type": "code",
   "execution_count": 12,
   "metadata": {
    "id": "Tq4nYRX4_Zct"
   },
   "outputs": [
    {
     "name": "stdout",
     "output_type": "stream",
     "text": [
      "<class 'pandas.core.frame.DataFrame'>\n",
      "RangeIndex: 65079 entries, 0 to 65078\n",
      "Data columns (total 7 columns):\n",
      " #   Column   Non-Null Count  Dtype \n",
      "---  ------   --------------  ----- \n",
      " 0   user_id  65079 non-null  object\n",
      " 1   track    65079 non-null  object\n",
      " 2   artist   65079 non-null  object\n",
      " 3   genre    65079 non-null  object\n",
      " 4   city     65079 non-null  object\n",
      " 5   time     65079 non-null  object\n",
      " 6   day      65079 non-null  object\n",
      "dtypes: object(7)\n",
      "memory usage: 3.5+ MB\n",
      "Hay 0 valores ausentes en track\n",
      "Hay 0 valores ausentes en artist\n",
      "Hay 0 valores ausentes en genre\n"
     ]
    }
   ],
   "source": [
    "# Contar valores ausentes\n",
    "df.info()\n",
    "print(\"Hay\",df['track'].isna().sum(),\"valores ausentes en track\")\n",
    "print(\"Hay\",df['artist'].isna().sum(),\"valores ausentes en artist\")\n",
    "print(\"Hay\",df['genre'].isna().sum(),\"valores ausentes en genre\")"
   ]
  },
  {
   "cell_type": "markdown",
   "metadata": {},
   "source": [
    "<div class=\"alert alert-block alert-success\"> \n",
    "<b>Comentario del Revisor #1</b> <a class=\"tocSkip\"></a>\n",
    "\n",
    "Excelente trabajo con esos valores ausentes\n",
    "\n",
    "</div>"
   ]
  },
  {
   "cell_type": "markdown",
   "metadata": {
    "id": "74ZIBmq9VrsK"
   },
   "source": [
    "[Volver a Contenidos](#back)"
   ]
  },
  {
   "cell_type": "markdown",
   "metadata": {
    "id": "BWKRtBJ3_Zct"
   },
   "source": [
    "### Duplicados <a id='duplicates'></a>\n",
    "Encuentra el número de duplicados explícitos en la tabla. Una vez más, debes aplicar dos métodos en una secuencia para obtener la cantidad de duplicados explícitos."
   ]
  },
  {
   "cell_type": "code",
   "execution_count": 13,
   "metadata": {
    "id": "36eES_S0_Zct"
   },
   "outputs": [
    {
     "name": "stdout",
     "output_type": "stream",
     "text": [
      "3826\n"
     ]
    }
   ],
   "source": [
    "# Contar duplicados explícitos\n",
    "print(df.duplicated().sum())"
   ]
  },
  {
   "cell_type": "markdown",
   "metadata": {
    "id": "Ot25h6XR_Zct"
   },
   "source": [
    "Ahora, elimina todos los duplicados. Para ello, llama al método que hace exactamente esto."
   ]
  },
  {
   "cell_type": "code",
   "execution_count": 14,
   "metadata": {
    "id": "exFHq6tt_Zct"
   },
   "outputs": [],
   "source": [
    "# Eliminar duplicados explícitos\n",
    "df=df.drop_duplicates()"
   ]
  },
  {
   "cell_type": "markdown",
   "metadata": {
    "id": "Im2YwBEG_Zct"
   },
   "source": [
    "Comprobemos ahora si eliminamos con éxito todos los duplicados. Cuenta los duplicados explícitos una vez más para asegurarte de haberlos eliminado todos:"
   ]
  },
  {
   "cell_type": "code",
   "execution_count": 15,
   "metadata": {
    "id": "-8PuNWQ0_Zct"
   },
   "outputs": [
    {
     "name": "stdout",
     "output_type": "stream",
     "text": [
      "Existen 0 duplicados explícitos\n",
      "\n",
      "Número de registros en información original: 65079 \n",
      "Menos duplicados explícitos: 3826 \n",
      "Total: 61253\n",
      "\n",
      "<class 'pandas.core.frame.DataFrame'>\n",
      "Int64Index: 61253 entries, 0 to 65078\n",
      "Data columns (total 7 columns):\n",
      " #   Column   Non-Null Count  Dtype \n",
      "---  ------   --------------  ----- \n",
      " 0   user_id  61253 non-null  object\n",
      " 1   track    61253 non-null  object\n",
      " 2   artist   61253 non-null  object\n",
      " 3   genre    61253 non-null  object\n",
      " 4   city     61253 non-null  object\n",
      " 5   time     61253 non-null  object\n",
      " 6   day      61253 non-null  object\n",
      "dtypes: object(7)\n",
      "memory usage: 3.7+ MB\n"
     ]
    }
   ],
   "source": [
    "# Comprobar de nuevo si hay duplicados\n",
    "print(\"Existen\",df.duplicated().sum(),\"duplicados explícitos\")\n",
    "print()\n",
    "print(\"Número de registros en información original:\",65079,\"\\nMenos duplicados explícitos:\",3826,\"\\nTotal:\",65079-3826)\n",
    "print()\n",
    "df.info()"
   ]
  },
  {
   "cell_type": "markdown",
   "metadata": {},
   "source": [
    "<div class=\"alert alert-block alert-success\"> \n",
    "<b>Comentario del Revisor #1</b> <a class=\"tocSkip\"></a>\n",
    "\n",
    "Todo correcto\n",
    "\n",
    "</div>"
   ]
  },
  {
   "cell_type": "markdown",
   "metadata": {
    "id": "QlFBsxAr_Zct"
   },
   "source": [
    "Ahora queremos deshacernos de los duplicados implícitos en la columna `genre`. Por ejemplo, el nombre de un género se puede escribir de varias formas. Dichos errores también pueden afectar al resultado."
   ]
  },
  {
   "cell_type": "markdown",
   "metadata": {
    "id": "eSjWwsOh_Zct"
   },
   "source": [
    "Para hacerlo, primero mostremos una lista de nombres de género únicos, ordenados en orden alfabético. Para ello:\n",
    "* Extrae la columna `genre` del DataFrame.\n",
    "* Llama al método que devolverá todos los valores únicos en la columna extraída.\n"
   ]
  },
  {
   "cell_type": "code",
   "execution_count": 16,
   "metadata": {
    "id": "JIUcqzZN_Zct"
   },
   "outputs": [
    {
     "name": "stdout",
     "output_type": "stream",
     "text": [
      "['acid' 'acoustic' 'action' 'adult' 'africa' 'afrikaans' 'alternative'\n",
      " 'ambient' 'americana' 'animated' 'anime' 'arabesk' 'arabic' 'arena'\n",
      " 'argentinetango' 'art' 'audiobook' 'avantgarde' 'axé' 'baile' 'balkan'\n",
      " 'beats' 'bigroom' 'black' 'bluegrass' 'blues' 'bollywood' 'bossa'\n",
      " 'brazilian' 'breakbeat' 'breaks' 'broadway' 'cantautori' 'cantopop'\n",
      " 'canzone' 'caribbean' 'caucasian' 'celtic' 'chamber' 'children' 'chill'\n",
      " 'chinese' 'choral' 'christian' 'christmas' 'classical' 'classicmetal'\n",
      " 'club' 'colombian' 'comedy' 'conjazz' 'contemporary' 'country' 'cuban'\n",
      " 'dance' 'dancehall' 'dancepop' 'dark' 'death' 'deep' 'deutschrock'\n",
      " 'deutschspr' 'dirty' 'disco' 'dnb' 'documentary' 'downbeat' 'downtempo'\n",
      " 'drum' 'dub' 'dubstep' 'eastern' 'easy' 'electronic' 'electropop' 'emo'\n",
      " 'entehno' 'epicmetal' 'estrada' 'ethnic' 'eurofolk' 'european'\n",
      " 'experimental' 'extrememetal' 'fado' 'film' 'fitness' 'flamenco' 'folk'\n",
      " 'folklore' 'folkmetal' 'folkrock' 'folktronica' 'forró' 'frankreich'\n",
      " 'französisch' 'french' 'funk' 'future' 'gangsta' 'garage' 'german'\n",
      " 'ghazal' 'gitarre' 'glitch' 'gospel' 'gothic' 'grime' 'grunge' 'gypsy'\n",
      " 'handsup' \"hard'n'heavy\" 'hardcore' 'hardstyle' 'hardtechno' 'hip'\n",
      " 'hip-hop' 'hiphop' 'historisch' 'holiday' 'hop' 'horror' 'house' 'idm'\n",
      " 'independent' 'indian' 'indie' 'indipop' 'industrial' 'inspirational'\n",
      " 'instrumental' 'international' 'irish' 'jam' 'japanese' 'jazz' 'jewish'\n",
      " 'jpop' 'jungle' 'k-pop' 'karadeniz' 'karaoke' 'kayokyoku' 'korean'\n",
      " 'laiko' 'latin' 'latino' 'leftfield' 'local' 'lounge' 'loungeelectronic'\n",
      " 'lovers' 'malaysian' 'mandopop' 'marschmusik' 'meditative'\n",
      " 'mediterranean' 'melodic' 'metal' 'metalcore' 'mexican' 'middle'\n",
      " 'minimal' 'miscellaneous' 'modern' 'mood' 'mpb' 'muslim' 'native'\n",
      " 'neoklassik' 'neue' 'new' 'newage' 'newwave' 'nu' 'nujazz' 'numetal'\n",
      " 'oceania' 'old' 'opera' 'orchestral' 'other' 'piano' 'pop'\n",
      " 'popelectronic' 'popeurodance' 'post' 'posthardcore' 'postrock' 'power'\n",
      " 'progmetal' 'progressive' 'psychedelic' 'punjabi' 'punk' 'quebecois'\n",
      " 'ragga' 'ram' 'rancheras' 'rap' 'rave' 'reggae' 'reggaeton' 'regional'\n",
      " 'relax' 'religious' 'retro' 'rhythm' 'rnb' 'rnr' 'rock' 'rockabilly'\n",
      " 'romance' 'roots' 'ruspop' 'rusrap' 'rusrock' 'salsa' 'samba' 'schlager'\n",
      " 'self' 'sertanejo' 'shoegazing' 'showtunes' 'singer' 'ska' 'slow'\n",
      " 'smooth' 'soul' 'soulful' 'sound' 'soundtrack' 'southern' 'specialty'\n",
      " 'speech' 'spiritual' 'sport' 'stonerrock' 'surf' 'swing' 'synthpop'\n",
      " 'sängerportrait' 'tango' 'tanzorchester' 'taraftar' 'tech' 'techno'\n",
      " 'thrash' 'top' 'traditional' 'tradjazz' 'trance' 'tribal' 'trip'\n",
      " 'triphop' 'tropical' 'türk' 'türkçe' 'unknown' 'urban' 'uzbek' 'variété'\n",
      " 'vi' 'videogame' 'vocal' 'western' 'world' 'worldbeat' 'ïîï']\n",
      "269\n"
     ]
    }
   ],
   "source": [
    "# Inspeccionar los nombres de géneros únicos\n",
    "print(df['genre'].sort_values().unique())\n",
    "print(df['genre'].nunique())"
   ]
  },
  {
   "cell_type": "markdown",
   "metadata": {
    "id": "qej-Qmuo_Zct"
   },
   "source": [
    "Busca en la lista para encontrar duplicados implícitos del género `hiphop`. Estos pueden ser nombres escritos incorrectamente o nombres alternativos para el mismo género.\n",
    "\n",
    "Verás los siguientes duplicados implícitos:\n",
    "* `hip`\n",
    "* `hop`\n",
    "* `hip-hop`\n",
    "\n",
    "Para deshacerte de ellos, crea una función llamada `replace_wrong_genres()` con dos parámetros:\n",
    "* `wrong_genres=`: esta es una lista que contiene todos los valores que necesitas reemplazar.\n",
    "* `correct_genre=`: este es un string que vas a utilizar como reemplazo.\n",
    "\n",
    "Como resultado, la función debería corregir los nombres en la columna `'genre'` de la tabla `df`, es decir, remplazar cada valor de la lista `wrong_genres` por el valor en `correct_genre`.\n",
    "\n",
    "Dentro del cuerpo de la función, utiliza un bucle `'for'` para iterar sobre la lista de géneros incorrectos, extrae la columna `'genre'` y aplica el método `replace` para hacer correcciones."
   ]
  },
  {
   "cell_type": "code",
   "execution_count": 17,
   "metadata": {
    "id": "ErNDkmns_Zct"
   },
   "outputs": [],
   "source": [
    "# Función para reemplazar duplicados implícitos\n",
    "wrong_genres=['hip','hop','hip-hop']\n",
    "correct_genre='hiphop'\n",
    "def replace_wrong_genres(data,column,wrong_values,correct_values):\n",
    "    for wrong_value in wrong_values:\n",
    "        data[column]=data[column].replace(wrong_values,correct_values)\n",
    "    return data"
   ]
  },
  {
   "cell_type": "markdown",
   "metadata": {
    "id": "aDoBJxbA_Zct"
   },
   "source": [
    "Ahora, llama a `replace_wrong_genres()` y pásale tales argumentos para que retire los duplicados implícitos (`hip`, `hop` y `hip-hop`) y los reemplace por `hiphop`:"
   ]
  },
  {
   "cell_type": "code",
   "execution_count": 18,
   "metadata": {
    "id": "YN5i2hpmSo09"
   },
   "outputs": [],
   "source": [
    "# Eliminar duplicados implícitos\n",
    "wrong_genres=['hip','hop','hip-hop']\n",
    "correct_genre='hiphop'\n",
    "\n",
    "df=replace_wrong_genres(df,'genre',wrong_genres,correct_genre)"
   ]
  },
  {
   "cell_type": "markdown",
   "metadata": {
    "id": "zQKF16_RG15m"
   },
   "source": [
    "Asegúrate de que los nombres duplicados han sido eliminados. Muestra la lista de valores únicos de la columna `'genre'` una vez más:"
   ]
  },
  {
   "cell_type": "code",
   "execution_count": 19,
   "metadata": {
    "id": "wvixALnFG15m"
   },
   "outputs": [
    {
     "name": "stdout",
     "output_type": "stream",
     "text": [
      "['acid' 'acoustic' 'action' 'adult' 'africa' 'afrikaans' 'alternative'\n",
      " 'ambient' 'americana' 'animated' 'anime' 'arabesk' 'arabic' 'arena'\n",
      " 'argentinetango' 'art' 'audiobook' 'avantgarde' 'axé' 'baile' 'balkan'\n",
      " 'beats' 'bigroom' 'black' 'bluegrass' 'blues' 'bollywood' 'bossa'\n",
      " 'brazilian' 'breakbeat' 'breaks' 'broadway' 'cantautori' 'cantopop'\n",
      " 'canzone' 'caribbean' 'caucasian' 'celtic' 'chamber' 'children' 'chill'\n",
      " 'chinese' 'choral' 'christian' 'christmas' 'classical' 'classicmetal'\n",
      " 'club' 'colombian' 'comedy' 'conjazz' 'contemporary' 'country' 'cuban'\n",
      " 'dance' 'dancehall' 'dancepop' 'dark' 'death' 'deep' 'deutschrock'\n",
      " 'deutschspr' 'dirty' 'disco' 'dnb' 'documentary' 'downbeat' 'downtempo'\n",
      " 'drum' 'dub' 'dubstep' 'eastern' 'easy' 'electronic' 'electropop' 'emo'\n",
      " 'entehno' 'epicmetal' 'estrada' 'ethnic' 'eurofolk' 'european'\n",
      " 'experimental' 'extrememetal' 'fado' 'film' 'fitness' 'flamenco' 'folk'\n",
      " 'folklore' 'folkmetal' 'folkrock' 'folktronica' 'forró' 'frankreich'\n",
      " 'französisch' 'french' 'funk' 'future' 'gangsta' 'garage' 'german'\n",
      " 'ghazal' 'gitarre' 'glitch' 'gospel' 'gothic' 'grime' 'grunge' 'gypsy'\n",
      " 'handsup' \"hard'n'heavy\" 'hardcore' 'hardstyle' 'hardtechno' 'hiphop'\n",
      " 'historisch' 'holiday' 'horror' 'house' 'idm' 'independent' 'indian'\n",
      " 'indie' 'indipop' 'industrial' 'inspirational' 'instrumental'\n",
      " 'international' 'irish' 'jam' 'japanese' 'jazz' 'jewish' 'jpop' 'jungle'\n",
      " 'k-pop' 'karadeniz' 'karaoke' 'kayokyoku' 'korean' 'laiko' 'latin'\n",
      " 'latino' 'leftfield' 'local' 'lounge' 'loungeelectronic' 'lovers'\n",
      " 'malaysian' 'mandopop' 'marschmusik' 'meditative' 'mediterranean'\n",
      " 'melodic' 'metal' 'metalcore' 'mexican' 'middle' 'minimal'\n",
      " 'miscellaneous' 'modern' 'mood' 'mpb' 'muslim' 'native' 'neoklassik'\n",
      " 'neue' 'new' 'newage' 'newwave' 'nu' 'nujazz' 'numetal' 'oceania' 'old'\n",
      " 'opera' 'orchestral' 'other' 'piano' 'pop' 'popelectronic' 'popeurodance'\n",
      " 'post' 'posthardcore' 'postrock' 'power' 'progmetal' 'progressive'\n",
      " 'psychedelic' 'punjabi' 'punk' 'quebecois' 'ragga' 'ram' 'rancheras'\n",
      " 'rap' 'rave' 'reggae' 'reggaeton' 'regional' 'relax' 'religious' 'retro'\n",
      " 'rhythm' 'rnb' 'rnr' 'rock' 'rockabilly' 'romance' 'roots' 'ruspop'\n",
      " 'rusrap' 'rusrock' 'salsa' 'samba' 'schlager' 'self' 'sertanejo'\n",
      " 'shoegazing' 'showtunes' 'singer' 'ska' 'slow' 'smooth' 'soul' 'soulful'\n",
      " 'sound' 'soundtrack' 'southern' 'specialty' 'speech' 'spiritual' 'sport'\n",
      " 'stonerrock' 'surf' 'swing' 'synthpop' 'sängerportrait' 'tango'\n",
      " 'tanzorchester' 'taraftar' 'tech' 'techno' 'thrash' 'top' 'traditional'\n",
      " 'tradjazz' 'trance' 'tribal' 'trip' 'triphop' 'tropical' 'türk' 'türkçe'\n",
      " 'unknown' 'urban' 'uzbek' 'variété' 'vi' 'videogame' 'vocal' 'western'\n",
      " 'world' 'worldbeat' 'ïîï']\n",
      "266\n"
     ]
    }
   ],
   "source": [
    "# Comprobación de duplicados implícitos\n",
    "print(df['genre'].sort_values().unique())\n",
    "print(df['genre'].nunique())"
   ]
  },
  {
   "cell_type": "markdown",
   "metadata": {},
   "source": [
    "<div class=\"alert alert-block alert-success\"> \n",
    "<b>Comentario del Revisor #1</b> <a class=\"tocSkip\"></a>\n",
    "\n",
    "Muy buen trabajo!\n",
    "\n",
    "</div>"
   ]
  },
  {
   "cell_type": "markdown",
   "metadata": {
    "id": "ALgNbvF3VtPA"
   },
   "source": [
    "[Volver a Contenidos](#back)"
   ]
  },
  {
   "cell_type": "markdown",
   "metadata": {
    "id": "jz6a9-7HQUDd"
   },
   "source": [
    "### Tus observaciones <a id='data_preprocessing_conclusions'></a>\n",
    "\n",
    "`Describe brevemente lo que has notado al analizar duplicados, cómo abordaste sus eliminaciones y qué resultados obtuviste.`\n",
    "Necesito descubrir más herramientas para analizar un listado de 269 ya que posiblemente pueda haber más casos como el de hiphop."
   ]
  },
  {
   "cell_type": "markdown",
   "metadata": {},
   "source": [
    "<div class=\"alert alert-block alert-success\"> \n",
    "<b>Comentario del Revisor #1</b> <a class=\"tocSkip\"></a>\n",
    "\n",
    "Exacto! En la vida real, taréas como estas pueden llevar mucho tiempo\n",
    "\n",
    "</div>"
   ]
  },
  {
   "cell_type": "markdown",
   "metadata": {
    "id": "eK1es74rVujj"
   },
   "source": [
    "[Volver a Contenidos](#back)"
   ]
  },
  {
   "cell_type": "markdown",
   "metadata": {
    "id": "WttZHXH0SqKk"
   },
   "source": [
    "## Etapa 3. Prueba de hipótesis <a id='hypothesis'></a>"
   ]
  },
  {
   "cell_type": "markdown",
   "metadata": {
    "id": "Im936VVi_Zcu"
   },
   "source": [
    "### Hipótesis: comparar el comportamiento del usuario o la usuaria en las dos ciudades <a id='activity'></a>"
   ]
  },
  {
   "cell_type": "markdown",
   "metadata": {
    "id": "nwt_MuaL_Zcu"
   },
   "source": [
    "La hipótesis afirma que existen diferencias en la forma en que los usuarios y las usuarias de Springfield y Shelbyville consumen música. Para comprobar esto, usa los datos de tres días de la semana: lunes, miércoles y viernes.\n",
    "\n",
    "* Agrupa a los usuarios y las usuarias por ciudad.\n",
    "* Compara el número de canciones que cada grupo reprodujo el lunes, el miércoles y el viernes.\n"
   ]
  },
  {
   "cell_type": "markdown",
   "metadata": {
    "id": "8Dw_YMmT_Zcu"
   },
   "source": [
    "Realiza cada cálculo por separado.\n",
    "\n",
    "El primer paso es evaluar la actividad del usuario en cada ciudad. Recuerda las etapas dividir-aplicar-combinar de las que hablamos anteriormente en la lección. Tu objetivo ahora es agrupar los datos por ciudad, aplicar el método apropiado para contar durante la etapa de aplicación y luego encontrar la cantidad de canciones reproducidas en cada grupo especificando la columna para obtener el recuento.\n",
    "\n",
    "A continuación se muestra un ejemplo de cómo debería verse el resultado final:\n",
    "`df.groupby(by='....')['column'].method()`Realiza cada cálculo por separado.\n",
    "\n",
    "Para evaluar la actividad de los usuarios y las usuarias en cada ciudad, agrupa los datos por ciudad y encuentra la cantidad de canciones reproducidas en cada grupo.\n",
    "\n"
   ]
  },
  {
   "cell_type": "code",
   "execution_count": 20,
   "metadata": {
    "id": "0_Qs96oh_Zcu"
   },
   "outputs": [
    {
     "name": "stdout",
     "output_type": "stream",
     "text": [
      "city\n",
      "Shelbyville    18512\n",
      "Springfield    42741\n",
      "Name: track, dtype: int64\n"
     ]
    }
   ],
   "source": [
    "# Contar las canciones reproducidas en cada ciudad\n",
    "print(df.groupby(by='city')['track'].count())"
   ]
  },
  {
   "cell_type": "markdown",
   "metadata": {
    "id": "t_Qx-3NewAnK"
   },
   "source": [
    "`Comenta tus observaciones aquí`\n",
    "Considerando que ya no se tienen filas duplicadas, cada fila considera cada vez que una canción fue escuchada en cada ciudad."
   ]
  },
  {
   "cell_type": "markdown",
   "metadata": {},
   "source": [
    "<div class=\"alert alert-block alert-success\"> \n",
    "<b>Comentario del Revisor #1</b> <a class=\"tocSkip\"></a>\n",
    "\n",
    "Correcto\n",
    "\n",
    "</div>"
   ]
  },
  {
   "cell_type": "markdown",
   "metadata": {
    "id": "dzli3w8o_Zcu"
   },
   "source": [
    "Ahora agrupemos los datos por día de la semana y encontremos el número de canciones reproducidas el lunes, miércoles y viernes. Utiliza el mismo método que antes, pero ahora necesitamos una agrupación diferente.\n"
   ]
  },
  {
   "cell_type": "code",
   "execution_count": 21,
   "metadata": {
    "id": "uZMKjiJz_Zcu"
   },
   "outputs": [
    {
     "name": "stdout",
     "output_type": "stream",
     "text": [
      "day\n",
      "Friday       21840\n",
      "Monday       21354\n",
      "Wednesday    18059\n",
      "Name: track, dtype: int64\n"
     ]
    }
   ],
   "source": [
    "# Calcular las canciones reproducidas en cada uno de los tres días\n",
    "print(df.groupby(by='day')['track'].count())"
   ]
  },
  {
   "cell_type": "markdown",
   "metadata": {
    "id": "cC2tNrlL_Zcu"
   },
   "source": [
    "`Comenta tus observaciones aquí`\n",
    "Señala el numero de veces que una canción fue puesta en marcha por cada día."
   ]
  },
  {
   "cell_type": "markdown",
   "metadata": {
    "id": "POzs8bGa_Zcu"
   },
   "source": [
    "Ya sabes cómo contar entradas agrupándolas por ciudad o día. Ahora necesitas escribir una función que pueda contar entradas según ambos criterios simultáneamente.\n",
    "\n",
    "Crea la función `number_tracks()` para calcular el número de canciones reproducidas en un determinado día **y** ciudad. La función debe aceptar dos parámetros:\n",
    "\n",
    "- `day`: un día de la semana para filtrar. Por ejemplo, `'Monday'` (lunes).\n",
    "- `city`: una ciudad para filtrar. Por ejemplo, `'Springfield'`.\n",
    "\n",
    "Dentro de la función, aplicarás un filtrado consecutivo con indexación lógica.\n",
    "\n",
    "Primero filtra los datos por día y luego filtra la tabla resultante por ciudad.\n",
    "\n",
    "Después de filtrar los datos por dos criterios, cuenta el número de valores de la columna 'user_id' en la tabla resultante. Este recuento representa el número de entradas que estás buscando. Guarda el resultado en una nueva variable y devuélvelo desde la función."
   ]
  },
  {
   "cell_type": "code",
   "execution_count": 22,
   "metadata": {
    "id": "Nz3GdQB1_Zcu"
   },
   "outputs": [],
   "source": [
    "# Declara la función number_tracks() con dos parámetros: day= y city=.\n",
    "\n",
    "    # Almacena las filas del DataFrame donde el valor en la columna 'day' es igual al parámetro day=\n",
    "\n",
    "    # Filtra las filas donde el valor en la columna 'city' es igual al parámetro city=\n",
    "\n",
    "    # Extrae la columna 'user_id' de la tabla filtrada y aplica el método count()\n",
    "\n",
    "    # Devolve el número de valores de la columna 'user_id'"
   ]
  },
  {
   "cell_type": "code",
   "execution_count": 22,
   "metadata": {},
   "outputs": [],
   "source": [
    "Day_1='Monday'\n",
    "Day_2='Wednesday'\n",
    "Day_3='Friday'\n",
    "City_1='Springfield'\n",
    "City_2='Shelbyville' \n",
    "\n",
    "def number_tracks(Data,Day,City):\n",
    "    df_filtered=Data[(Data['day']==Day)&(Data['city']==City)]\n",
    "    user_count=df_filtered['user_id'].count()\n",
    "    return f\"{user_count} pistas reproducidas el {Day} en {City}.\""
   ]
  },
  {
   "cell_type": "markdown",
   "metadata": {
    "id": "ytf7xFrFJQ2r"
   },
   "source": [
    "Llama a `number_tracks()` seis veces, cambiando los valores de los parámetros para que recuperes los datos de ambas ciudades para cada uno de los tres días."
   ]
  },
  {
   "cell_type": "code",
   "execution_count": 23,
   "metadata": {
    "id": "rJcRATNQ_Zcu"
   },
   "outputs": [
    {
     "name": "stdout",
     "output_type": "stream",
     "text": [
      "15740 pistas reproducidas el Monday en Springfield.\n"
     ]
    }
   ],
   "source": [
    "# El número de canciones reproducidas en Springfield el lunes\n",
    "print(number_tracks(df,Day_1,City_1))"
   ]
  },
  {
   "cell_type": "code",
   "execution_count": 24,
   "metadata": {
    "id": "hq_ncZ5T_Zcu"
   },
   "outputs": [
    {
     "name": "stdout",
     "output_type": "stream",
     "text": [
      "5614 pistas reproducidas el Monday en Shelbyville.\n"
     ]
    }
   ],
   "source": [
    "# El número de canciones reproducidas en Shelbyville el lunes\n",
    "print(number_tracks(df,Day_1,City_2))"
   ]
  },
  {
   "cell_type": "code",
   "execution_count": 26,
   "metadata": {
    "id": "_NTy2VPU_Zcu"
   },
   "outputs": [
    {
     "name": "stdout",
     "output_type": "stream",
     "text": [
      "11056 pistas reproducidas el Wednesday en Springfield.\n"
     ]
    }
   ],
   "source": [
    "# El número de canciones reproducidas en Springfield el miércoles\n",
    "print(number_tracks(df,Day_2,City_1))"
   ]
  },
  {
   "cell_type": "code",
   "execution_count": 27,
   "metadata": {
    "id": "j2y3TAwo_Zcu"
   },
   "outputs": [
    {
     "name": "stdout",
     "output_type": "stream",
     "text": [
      "7003 pistas reproducidas el Wednesday en Shelbyville.\n"
     ]
    }
   ],
   "source": [
    "# El número de canciones reproducidas en Shelbyville el miércoles\n",
    "print(number_tracks(df,Day_2,City_2))"
   ]
  },
  {
   "cell_type": "code",
   "execution_count": 28,
   "metadata": {
    "id": "vYDw5u_K_Zcu"
   },
   "outputs": [
    {
     "name": "stdout",
     "output_type": "stream",
     "text": [
      "15945 pistas reproducidas el Friday en Springfield.\n"
     ]
    }
   ],
   "source": [
    "# El número de canciones reproducidas en Springfield el viernes\n",
    "print(number_tracks(df,Day_3,City_1))"
   ]
  },
  {
   "cell_type": "code",
   "execution_count": 29,
   "metadata": {
    "id": "8_yzFtW3_Zcu"
   },
   "outputs": [
    {
     "name": "stdout",
     "output_type": "stream",
     "text": [
      "5895 pistas reproducidas el Friday en Shelbyville.\n"
     ]
    }
   ],
   "source": [
    "# El número de canciones reproducidas en Shelbyville el viernes\n",
    "print(number_tracks(df,Day_3,City_2))"
   ]
  },
  {
   "cell_type": "markdown",
   "metadata": {},
   "source": [
    "<div class=\"alert alert-block alert-success\"> \n",
    "<b>Comentario del Revisor #1</b> <a class=\"tocSkip\"></a>\n",
    "\n",
    "Impecable! Todos los resultados son correctos. Muy buena forma de mostrar los resultados\n",
    "\n",
    "</div>"
   ]
  },
  {
   "cell_type": "markdown",
   "metadata": {
    "id": "-EgPIHYu_Zcu"
   },
   "source": [
    "**Conclusiones**\n",
    "\n",
    "`Comenta si la hipótesis es correcta o se debe rechazar. Explica tu razonamiento.`\n",
    "Se entiende que al no haber valores cuantitativos, los resultrados mostrados se determinan a partir del conteo de valores categóricos, lo que significa contar cada renglón como una unidad. El no localizar registros duplicados significaría una alteración a los resultados obtenidos por lo que es recomendable agotar los recursos en la limpieza de datos."
   ]
  },
  {
   "cell_type": "markdown",
   "metadata": {},
   "source": [
    "<div class=\"alert alert-block alert-success\"> \n",
    "<b>Comentario del Revisor #1</b> <a class=\"tocSkip\"></a>\n",
    "\n",
    "Correcto\n",
    "\n",
    "</div>"
   ]
  },
  {
   "cell_type": "markdown",
   "metadata": {
    "id": "p7nFQajCVw5B"
   },
   "source": [
    "[Volver a Contenidos](#back)"
   ]
  },
  {
   "cell_type": "markdown",
   "metadata": {
    "id": "ykKQ0N65_Zcv"
   },
   "source": [
    "# Conclusiones <a id='end'></a>"
   ]
  },
  {
   "cell_type": "markdown",
   "metadata": {
    "id": "tjUwbHb3_Zcv"
   },
   "source": [
    "`Resume aquí tus conclusiones sobre la hipótesis.`\n",
    "Existen variaciones en cuanto al número de escuchas por cada ciudad. \n",
    "En el caso de Springfield el día miércoles decrece un 30% considerando el promedio de 15,800 escuchas en lunes y viernes.\n",
    "Por otro lado, Shelbyville actúa opuestamente incrementando un 19% el número de escuchas los días miércoles en comparación con las 5,700 escuchas promedio en lunes y viernes.\n",
    "Sin embargo, sería necesario conocer las fechas para saber si esta evaluacion comprende un rango de varias semanas y determinar si dicho comportamiento se repite y las magnitudes en que lo hace. Dicho de otro modo, el presente estudio no ayuda para asumir que cada semana es igual."
   ]
  },
  {
   "cell_type": "markdown",
   "metadata": {},
   "source": [
    "<div class=\"alert alert-block alert-success\"> \n",
    "<b>Comentario del Revisor #1</b> <a class=\"tocSkip\"></a>\n",
    "\n",
    "Muy buena conclusión! Sin duda hace falta más información. Pero, por lo que podemos ver aquí, la hipótesis se aceptaría ya que, como comentas, exisste efectivamente una diferencia.\n",
    "\n",
    "</div>"
   ]
  },
  {
   "cell_type": "markdown",
   "metadata": {
    "id": "azLHu64yOIp7"
   },
   "source": [
    "### Nota\n",
    "En proyectos de investigación reales, la prueba de hipótesis estadística es más precisa y cuantitativa. También ten en cuenta que no siempre se pueden sacar conclusiones sobre una ciudad entera a partir de datos de una sola fuente.\n",
    "\n",
    "Aprenderás más sobre la prueba de hipótesis en el sprint de análisis estadístico de datos."
   ]
  },
  {
   "cell_type": "markdown",
   "metadata": {},
   "source": [
    "<div class=\"alert alert-block alert-success\"> \n",
    "<b>Comentario del Revisor #1</b> <a class=\"tocSkip\"></a>\n",
    "\n",
    "Excelente trabajo Oscar! Felicidades\n",
    "\n",
    "</div>"
   ]
  },
  {
   "cell_type": "markdown",
   "metadata": {
    "id": "Ju4AHDSgV1FE"
   },
   "source": [
    "[Volver a Contenidos](#back)"
   ]
  }
 ],
 "metadata": {
  "ExecuteTimeLog": [
   {
    "duration": 317,
    "start_time": "2024-10-08T19:02:08.285Z"
   },
   {
    "duration": 188,
    "start_time": "2024-10-08T19:09:57.426Z"
   },
   {
    "duration": 127,
    "start_time": "2024-10-08T19:10:17.921Z"
   },
   {
    "duration": 13,
    "start_time": "2024-10-08T19:10:21.460Z"
   },
   {
    "duration": 23,
    "start_time": "2024-10-08T19:11:03.005Z"
   },
   {
    "duration": 11,
    "start_time": "2024-10-08T19:41:31.847Z"
   },
   {
    "duration": 5,
    "start_time": "2024-10-08T19:41:45.826Z"
   },
   {
    "duration": 8,
    "start_time": "2024-10-08T19:41:56.618Z"
   },
   {
    "duration": 11,
    "start_time": "2024-10-08T19:46:22.909Z"
   },
   {
    "duration": 12,
    "start_time": "2024-10-08T19:51:54.391Z"
   },
   {
    "duration": 4,
    "start_time": "2024-10-08T20:10:28.877Z"
   },
   {
    "duration": 4,
    "start_time": "2024-10-08T20:10:54.831Z"
   },
   {
    "duration": 5,
    "start_time": "2024-10-08T20:11:59.801Z"
   },
   {
    "duration": 8,
    "start_time": "2024-10-08T20:12:09.038Z"
   },
   {
    "duration": 5,
    "start_time": "2024-10-08T20:12:22.563Z"
   },
   {
    "duration": 11,
    "start_time": "2024-10-08T20:13:27.589Z"
   },
   {
    "duration": 4,
    "start_time": "2024-10-08T20:13:53.329Z"
   },
   {
    "duration": 20,
    "start_time": "2024-10-08T20:14:46.762Z"
   },
   {
    "duration": 56,
    "start_time": "2024-10-08T20:14:59.432Z"
   },
   {
    "duration": 38,
    "start_time": "2024-10-08T20:15:17.078Z"
   },
   {
    "duration": 390,
    "start_time": "2024-10-08T20:16:49.265Z"
   },
   {
    "duration": 40,
    "start_time": "2024-10-08T20:17:12.332Z"
   },
   {
    "duration": 38,
    "start_time": "2024-10-08T20:17:44.014Z"
   },
   {
    "duration": 41,
    "start_time": "2024-10-08T20:18:34.997Z"
   },
   {
    "duration": 39,
    "start_time": "2024-10-08T20:18:40.272Z"
   },
   {
    "duration": 51,
    "start_time": "2024-10-08T20:18:47.250Z"
   },
   {
    "duration": 38,
    "start_time": "2024-10-08T20:19:09.085Z"
   },
   {
    "duration": 39,
    "start_time": "2024-10-08T20:19:15.276Z"
   },
   {
    "duration": 38,
    "start_time": "2024-10-08T20:21:24.949Z"
   },
   {
    "duration": 41,
    "start_time": "2024-10-08T20:21:53.225Z"
   },
   {
    "duration": 39,
    "start_time": "2024-10-08T20:22:01.922Z"
   },
   {
    "duration": 88,
    "start_time": "2024-10-08T20:22:04.982Z"
   },
   {
    "duration": 22,
    "start_time": "2024-10-08T20:22:39.312Z"
   },
   {
    "duration": 8,
    "start_time": "2024-10-08T20:24:12.314Z"
   },
   {
    "duration": 38,
    "start_time": "2024-10-08T20:24:23.158Z"
   },
   {
    "duration": 40,
    "start_time": "2024-10-08T20:24:26.057Z"
   },
   {
    "duration": 12,
    "start_time": "2024-10-08T20:24:28.626Z"
   },
   {
    "duration": 38,
    "start_time": "2024-10-08T20:24:44.442Z"
   },
   {
    "duration": 42,
    "start_time": "2024-10-08T20:24:47.509Z"
   },
   {
    "duration": 41,
    "start_time": "2024-10-08T20:24:50.240Z"
   },
   {
    "duration": 38,
    "start_time": "2024-10-08T20:24:53.381Z"
   },
   {
    "duration": 41,
    "start_time": "2024-10-08T20:24:56.193Z"
   },
   {
    "duration": 40,
    "start_time": "2024-10-08T20:25:17.303Z"
   },
   {
    "duration": 37,
    "start_time": "2024-10-08T20:25:20.027Z"
   },
   {
    "duration": 38,
    "start_time": "2024-10-08T20:25:23.033Z"
   },
   {
    "duration": 37,
    "start_time": "2024-10-08T20:25:25.417Z"
   },
   {
    "duration": 23,
    "start_time": "2024-10-08T20:25:39.970Z"
   },
   {
    "duration": 5,
    "start_time": "2024-10-08T20:28:28.942Z"
   },
   {
    "duration": 40,
    "start_time": "2024-10-08T20:42:11.411Z"
   },
   {
    "duration": 62,
    "start_time": "2024-10-08T20:42:26.248Z"
   },
   {
    "duration": 41,
    "start_time": "2024-10-08T20:42:29.219Z"
   },
   {
    "duration": 39,
    "start_time": "2024-10-08T20:42:31.592Z"
   },
   {
    "duration": 39,
    "start_time": "2024-10-08T20:42:33.980Z"
   },
   {
    "duration": 51,
    "start_time": "2024-10-08T20:42:37.915Z"
   },
   {
    "duration": 38,
    "start_time": "2024-10-08T20:42:39.906Z"
   },
   {
    "duration": 26,
    "start_time": "2024-10-08T20:42:54.871Z"
   },
   {
    "duration": 40,
    "start_time": "2024-10-08T20:44:55.356Z"
   },
   {
    "duration": 22,
    "start_time": "2024-10-08T20:45:08.527Z"
   },
   {
    "duration": 4,
    "start_time": "2024-10-08T20:46:39.073Z"
   },
   {
    "duration": 4,
    "start_time": "2024-10-08T20:47:03.495Z"
   },
   {
    "duration": 66,
    "start_time": "2024-10-08T20:47:12.906Z"
   },
   {
    "duration": 65,
    "start_time": "2024-10-08T21:02:49.979Z"
   },
   {
    "duration": 132,
    "start_time": "2024-10-08T21:03:17.157Z"
   },
   {
    "duration": 130,
    "start_time": "2024-10-08T21:07:45.178Z"
   },
   {
    "duration": 133,
    "start_time": "2024-10-08T21:19:08.837Z"
   },
   {
    "duration": 129,
    "start_time": "2024-10-08T21:21:32.164Z"
   },
   {
    "duration": 95,
    "start_time": "2024-10-08T21:31:06.176Z"
   },
   {
    "duration": 5,
    "start_time": "2024-10-08T21:42:02.932Z"
   },
   {
    "duration": 3,
    "start_time": "2024-10-08T21:43:15.307Z"
   },
   {
    "duration": 4,
    "start_time": "2024-10-08T21:43:34.830Z"
   },
   {
    "duration": 107,
    "start_time": "2024-10-08T21:44:40.905Z"
   },
   {
    "duration": 110,
    "start_time": "2024-10-08T21:46:14.001Z"
   },
   {
    "duration": 87,
    "start_time": "2024-10-08T21:46:59.866Z"
   },
   {
    "duration": 20,
    "start_time": "2024-10-08T21:54:14.759Z"
   },
   {
    "duration": 3,
    "start_time": "2024-10-08T21:59:00.034Z"
   },
   {
    "duration": 5,
    "start_time": "2024-10-08T22:11:22.588Z"
   },
   {
    "duration": 4,
    "start_time": "2024-10-08T22:14:25.072Z"
   },
   {
    "duration": 13,
    "start_time": "2024-10-08T22:20:04.939Z"
   },
   {
    "duration": 3,
    "start_time": "2024-10-08T22:20:10.407Z"
   },
   {
    "duration": 41,
    "start_time": "2024-10-08T22:21:12.016Z"
   },
   {
    "duration": 38,
    "start_time": "2024-10-08T22:21:32.454Z"
   },
   {
    "duration": 11,
    "start_time": "2024-10-08T22:21:59.476Z"
   },
   {
    "duration": 11,
    "start_time": "2024-10-08T22:22:08.506Z"
   },
   {
    "duration": 405,
    "start_time": "2024-10-08T22:22:27.380Z"
   },
   {
    "duration": 38,
    "start_time": "2024-10-08T22:22:52.745Z"
   },
   {
    "duration": 41,
    "start_time": "2024-10-08T22:23:02.231Z"
   },
   {
    "duration": 28,
    "start_time": "2024-10-08T22:23:27.861Z"
   },
   {
    "duration": 4,
    "start_time": "2024-10-08T22:29:36.573Z"
   },
   {
    "duration": 3,
    "start_time": "2024-10-08T22:30:12.343Z"
   },
   {
    "duration": 23,
    "start_time": "2024-10-08T22:34:56.910Z"
   },
   {
    "duration": 31,
    "start_time": "2024-10-08T22:37:41.954Z"
   },
   {
    "duration": 31,
    "start_time": "2024-10-08T22:37:47.388Z"
   },
   {
    "duration": 36,
    "start_time": "2024-10-08T22:38:07.991Z"
   },
   {
    "duration": 24,
    "start_time": "2024-10-08T22:40:08.234Z"
   },
   {
    "duration": 60,
    "start_time": "2024-10-08T22:40:53.867Z"
   },
   {
    "duration": 25,
    "start_time": "2024-10-08T22:41:25.764Z"
   },
   {
    "duration": 5,
    "start_time": "2024-10-08T22:42:35.032Z"
   },
   {
    "duration": 23,
    "start_time": "2024-10-08T22:42:41.018Z"
   },
   {
    "duration": 25,
    "start_time": "2024-10-08T22:43:23.273Z"
   },
   {
    "duration": 27,
    "start_time": "2024-10-08T22:44:07.482Z"
   },
   {
    "duration": 12,
    "start_time": "2024-10-08T23:07:13.614Z"
   },
   {
    "duration": 23,
    "start_time": "2024-10-08T23:48:13.938Z"
   },
   {
    "duration": 40,
    "start_time": "2024-10-08T23:48:25.860Z"
   },
   {
    "duration": 47,
    "start_time": "2024-10-08T23:51:30.012Z"
   },
   {
    "duration": 45,
    "start_time": "2024-10-08T23:51:47.145Z"
   },
   {
    "duration": 29,
    "start_time": "2024-10-08T23:52:19.524Z"
   },
   {
    "duration": 123,
    "start_time": "2024-10-08T23:52:42.970Z"
   },
   {
    "duration": 46,
    "start_time": "2024-10-08T23:54:12.596Z"
   },
   {
    "duration": 84,
    "start_time": "2024-10-08T23:55:31.561Z"
   },
   {
    "duration": 61,
    "start_time": "2024-10-08T23:56:02.977Z"
   },
   {
    "duration": 51,
    "start_time": "2024-10-09T00:04:33.512Z"
   },
   {
    "duration": 22,
    "start_time": "2024-10-09T00:05:23.489Z"
   },
   {
    "duration": 53,
    "start_time": "2024-10-09T00:06:16.923Z"
   },
   {
    "duration": 22,
    "start_time": "2024-10-09T00:06:34.402Z"
   },
   {
    "duration": 24,
    "start_time": "2024-10-09T00:06:59.151Z"
   },
   {
    "duration": 46,
    "start_time": "2024-10-09T00:07:16.654Z"
   },
   {
    "duration": 20,
    "start_time": "2024-10-09T00:07:21.160Z"
   },
   {
    "duration": 56,
    "start_time": "2024-10-09T00:08:20.301Z"
   },
   {
    "duration": 5,
    "start_time": "2024-10-09T00:09:11.985Z"
   },
   {
    "duration": 56,
    "start_time": "2024-10-09T00:09:22.513Z"
   },
   {
    "duration": 58,
    "start_time": "2024-10-09T00:09:32.562Z"
   },
   {
    "duration": 56,
    "start_time": "2024-10-09T00:09:37.642Z"
   },
   {
    "duration": 5,
    "start_time": "2024-10-09T00:11:54.811Z"
   },
   {
    "duration": 55,
    "start_time": "2024-10-09T00:13:08.321Z"
   },
   {
    "duration": 56,
    "start_time": "2024-10-09T00:13:29.136Z"
   },
   {
    "duration": 4,
    "start_time": "2024-10-09T00:13:42.909Z"
   },
   {
    "duration": 4,
    "start_time": "2024-10-09T00:13:47.425Z"
   },
   {
    "duration": 57,
    "start_time": "2024-10-09T00:14:02.097Z"
   },
   {
    "duration": 76,
    "start_time": "2024-10-09T00:14:13.193Z"
   },
   {
    "duration": 57,
    "start_time": "2024-10-09T00:14:28.175Z"
   },
   {
    "duration": 6,
    "start_time": "2024-10-09T00:17:51.986Z"
   },
   {
    "duration": 4,
    "start_time": "2024-10-09T00:17:57.992Z"
   },
   {
    "duration": 56,
    "start_time": "2024-10-09T00:19:43.385Z"
   },
   {
    "duration": 59,
    "start_time": "2024-10-09T00:19:50.534Z"
   },
   {
    "duration": 61,
    "start_time": "2024-10-09T00:20:03.654Z"
   },
   {
    "duration": 59,
    "start_time": "2024-10-09T00:20:14.437Z"
   },
   {
    "duration": 37,
    "start_time": "2024-10-09T00:22:46.142Z"
   },
   {
    "duration": 3,
    "start_time": "2024-10-09T00:52:05.729Z"
   },
   {
    "duration": 3,
    "start_time": "2024-10-09T00:55:12.045Z"
   },
   {
    "duration": 19,
    "start_time": "2024-10-09T00:57:58.336Z"
   },
   {
    "duration": 316,
    "start_time": "2024-10-09T00:58:16.777Z"
   },
   {
    "duration": 97,
    "start_time": "2024-10-09T00:58:17.096Z"
   },
   {
    "duration": 12,
    "start_time": "2024-10-09T00:58:17.194Z"
   },
   {
    "duration": 20,
    "start_time": "2024-10-09T00:58:17.207Z"
   },
   {
    "duration": 3,
    "start_time": "2024-10-09T00:58:17.242Z"
   },
   {
    "duration": 4,
    "start_time": "2024-10-09T00:58:17.247Z"
   },
   {
    "duration": 4,
    "start_time": "2024-10-09T00:58:17.252Z"
   },
   {
    "duration": 4,
    "start_time": "2024-10-09T00:58:17.257Z"
   },
   {
    "duration": 3,
    "start_time": "2024-10-09T00:58:17.263Z"
   },
   {
    "duration": 27,
    "start_time": "2024-10-09T00:58:17.268Z"
   },
   {
    "duration": 46,
    "start_time": "2024-10-09T00:58:17.297Z"
   },
   {
    "duration": 27,
    "start_time": "2024-10-09T00:58:17.346Z"
   },
   {
    "duration": 43,
    "start_time": "2024-10-09T00:58:17.375Z"
   },
   {
    "duration": 64,
    "start_time": "2024-10-09T00:58:17.421Z"
   },
   {
    "duration": 62,
    "start_time": "2024-10-09T00:58:17.487Z"
   },
   {
    "duration": 35,
    "start_time": "2024-10-09T00:58:17.551Z"
   },
   {
    "duration": 3,
    "start_time": "2024-10-09T00:58:17.587Z"
   },
   {
    "duration": 17,
    "start_time": "2024-10-09T00:58:17.592Z"
   },
   {
    "duration": 3,
    "start_time": "2024-10-09T00:58:17.610Z"
   },
   {
    "duration": 3,
    "start_time": "2024-10-09T00:58:17.615Z"
   },
   {
    "duration": 25,
    "start_time": "2024-10-09T00:58:17.619Z"
   },
   {
    "duration": 3,
    "start_time": "2024-10-09T00:58:17.645Z"
   },
   {
    "duration": 2,
    "start_time": "2024-10-09T00:58:17.650Z"
   },
   {
    "duration": 2,
    "start_time": "2024-10-09T00:58:17.653Z"
   },
   {
    "duration": 2,
    "start_time": "2024-10-09T00:58:17.658Z"
   },
   {
    "duration": 2,
    "start_time": "2024-10-09T00:58:17.662Z"
   },
   {
    "duration": 3,
    "start_time": "2024-10-09T00:58:17.666Z"
   },
   {
    "duration": 3,
    "start_time": "2024-10-09T00:58:17.670Z"
   },
   {
    "duration": 35,
    "start_time": "2024-10-09T00:59:13.675Z"
   },
   {
    "duration": 10,
    "start_time": "2024-10-09T01:12:12.105Z"
   },
   {
    "duration": 10,
    "start_time": "2024-10-09T01:20:38.642Z"
   },
   {
    "duration": 204,
    "start_time": "2024-10-09T01:21:24.885Z"
   },
   {
    "duration": 14,
    "start_time": "2024-10-09T01:21:39.780Z"
   },
   {
    "duration": 4,
    "start_time": "2024-10-09T01:22:34.735Z"
   },
   {
    "duration": 9,
    "start_time": "2024-10-09T01:22:38.767Z"
   },
   {
    "duration": 5,
    "start_time": "2024-10-09T01:22:49.604Z"
   },
   {
    "duration": 12,
    "start_time": "2024-10-09T01:22:54.698Z"
   },
   {
    "duration": 308,
    "start_time": "2024-10-09T02:09:46.986Z"
   },
   {
    "duration": 99,
    "start_time": "2024-10-09T02:09:47.296Z"
   },
   {
    "duration": 12,
    "start_time": "2024-10-09T02:09:47.397Z"
   },
   {
    "duration": 34,
    "start_time": "2024-10-09T02:09:47.411Z"
   },
   {
    "duration": 3,
    "start_time": "2024-10-09T02:09:47.447Z"
   },
   {
    "duration": 4,
    "start_time": "2024-10-09T02:09:47.451Z"
   },
   {
    "duration": 3,
    "start_time": "2024-10-09T02:09:47.457Z"
   },
   {
    "duration": 5,
    "start_time": "2024-10-09T02:09:47.462Z"
   },
   {
    "duration": 5,
    "start_time": "2024-10-09T02:09:47.469Z"
   },
   {
    "duration": 67,
    "start_time": "2024-10-09T02:09:47.477Z"
   },
   {
    "duration": 9,
    "start_time": "2024-10-09T02:09:47.546Z"
   },
   {
    "duration": 26,
    "start_time": "2024-10-09T02:09:47.557Z"
   },
   {
    "duration": 64,
    "start_time": "2024-10-09T02:09:47.584Z"
   },
   {
    "duration": 44,
    "start_time": "2024-10-09T02:09:47.650Z"
   },
   {
    "duration": 68,
    "start_time": "2024-10-09T02:09:47.696Z"
   },
   {
    "duration": 36,
    "start_time": "2024-10-09T02:09:47.766Z"
   },
   {
    "duration": 3,
    "start_time": "2024-10-09T02:09:47.803Z"
   },
   {
    "duration": 34,
    "start_time": "2024-10-09T02:09:47.808Z"
   },
   {
    "duration": 35,
    "start_time": "2024-10-09T02:09:47.844Z"
   },
   {
    "duration": 9,
    "start_time": "2024-10-09T02:09:47.881Z"
   },
   {
    "duration": 8,
    "start_time": "2024-10-09T02:09:47.891Z"
   },
   {
    "duration": 195,
    "start_time": "2024-10-09T02:09:47.901Z"
   },
   {
    "duration": 0,
    "start_time": "2024-10-09T02:09:48.098Z"
   },
   {
    "duration": 0,
    "start_time": "2024-10-09T02:09:48.100Z"
   },
   {
    "duration": 0,
    "start_time": "2024-10-09T02:09:48.101Z"
   },
   {
    "duration": 0,
    "start_time": "2024-10-09T02:09:48.102Z"
   },
   {
    "duration": 0,
    "start_time": "2024-10-09T02:09:48.104Z"
   },
   {
    "duration": 0,
    "start_time": "2024-10-09T02:09:48.105Z"
   },
   {
    "duration": 14,
    "start_time": "2024-10-09T02:10:16.869Z"
   },
   {
    "duration": 13,
    "start_time": "2024-10-09T02:12:33.775Z"
   },
   {
    "duration": 13,
    "start_time": "2024-10-09T02:12:49.177Z"
   },
   {
    "duration": 16,
    "start_time": "2024-10-09T02:13:06.851Z"
   },
   {
    "duration": 18,
    "start_time": "2024-10-09T02:17:49.128Z"
   },
   {
    "duration": 3,
    "start_time": "2024-10-09T02:23:58.809Z"
   },
   {
    "duration": 14,
    "start_time": "2024-10-09T02:24:31.621Z"
   },
   {
    "duration": 4,
    "start_time": "2024-10-09T02:25:05.065Z"
   },
   {
    "duration": 15,
    "start_time": "2024-10-09T02:25:43.308Z"
   },
   {
    "duration": 4,
    "start_time": "2024-10-09T02:26:08.419Z"
   },
   {
    "duration": 18,
    "start_time": "2024-10-09T02:26:46.827Z"
   },
   {
    "duration": 17,
    "start_time": "2024-10-09T02:30:01.115Z"
   },
   {
    "duration": 23,
    "start_time": "2024-10-09T02:36:50.741Z"
   },
   {
    "duration": 19,
    "start_time": "2024-10-09T02:37:40.889Z"
   },
   {
    "duration": 18,
    "start_time": "2024-10-09T02:40:03.049Z"
   },
   {
    "duration": 19,
    "start_time": "2024-10-09T02:41:00.428Z"
   },
   {
    "duration": 24,
    "start_time": "2024-10-09T02:43:07.312Z"
   },
   {
    "duration": 22,
    "start_time": "2024-10-09T02:43:46.046Z"
   },
   {
    "duration": 17,
    "start_time": "2024-10-09T02:43:52.909Z"
   },
   {
    "duration": 21,
    "start_time": "2024-10-09T02:43:56.607Z"
   },
   {
    "duration": 277,
    "start_time": "2024-10-09T02:44:04.233Z"
   },
   {
    "duration": 92,
    "start_time": "2024-10-09T02:44:04.513Z"
   },
   {
    "duration": 12,
    "start_time": "2024-10-09T02:44:04.607Z"
   },
   {
    "duration": 30,
    "start_time": "2024-10-09T02:44:04.621Z"
   },
   {
    "duration": 3,
    "start_time": "2024-10-09T02:44:04.653Z"
   },
   {
    "duration": 5,
    "start_time": "2024-10-09T02:44:04.657Z"
   },
   {
    "duration": 4,
    "start_time": "2024-10-09T02:44:04.663Z"
   },
   {
    "duration": 4,
    "start_time": "2024-10-09T02:44:04.668Z"
   },
   {
    "duration": 3,
    "start_time": "2024-10-09T02:44:04.674Z"
   },
   {
    "duration": 64,
    "start_time": "2024-10-09T02:44:04.679Z"
   },
   {
    "duration": 10,
    "start_time": "2024-10-09T02:44:04.744Z"
   },
   {
    "duration": 25,
    "start_time": "2024-10-09T02:44:04.756Z"
   },
   {
    "duration": 63,
    "start_time": "2024-10-09T02:44:04.783Z"
   },
   {
    "duration": 48,
    "start_time": "2024-10-09T02:44:04.849Z"
   },
   {
    "duration": 68,
    "start_time": "2024-10-09T02:44:04.899Z"
   },
   {
    "duration": 34,
    "start_time": "2024-10-09T02:44:04.969Z"
   },
   {
    "duration": 3,
    "start_time": "2024-10-09T02:44:05.005Z"
   },
   {
    "duration": 36,
    "start_time": "2024-10-09T02:44:05.010Z"
   },
   {
    "duration": 38,
    "start_time": "2024-10-09T02:44:05.047Z"
   },
   {
    "duration": 9,
    "start_time": "2024-10-09T02:44:05.087Z"
   },
   {
    "duration": 8,
    "start_time": "2024-10-09T02:44:05.098Z"
   },
   {
    "duration": 213,
    "start_time": "2024-10-09T02:44:05.107Z"
   },
   {
    "duration": 0,
    "start_time": "2024-10-09T02:44:05.322Z"
   },
   {
    "duration": 0,
    "start_time": "2024-10-09T02:44:05.323Z"
   },
   {
    "duration": 0,
    "start_time": "2024-10-09T02:44:05.325Z"
   },
   {
    "duration": 0,
    "start_time": "2024-10-09T02:44:05.325Z"
   },
   {
    "duration": 0,
    "start_time": "2024-10-09T02:44:05.328Z"
   },
   {
    "duration": 0,
    "start_time": "2024-10-09T02:44:05.329Z"
   },
   {
    "duration": 16,
    "start_time": "2024-10-09T02:44:56.953Z"
   },
   {
    "duration": 334,
    "start_time": "2024-10-09T02:45:17.054Z"
   },
   {
    "duration": 103,
    "start_time": "2024-10-09T02:45:17.391Z"
   },
   {
    "duration": 13,
    "start_time": "2024-10-09T02:45:17.496Z"
   },
   {
    "duration": 33,
    "start_time": "2024-10-09T02:45:17.510Z"
   },
   {
    "duration": 2,
    "start_time": "2024-10-09T02:45:17.546Z"
   },
   {
    "duration": 3,
    "start_time": "2024-10-09T02:45:17.550Z"
   },
   {
    "duration": 3,
    "start_time": "2024-10-09T02:45:17.555Z"
   },
   {
    "duration": 4,
    "start_time": "2024-10-09T02:45:17.560Z"
   },
   {
    "duration": 3,
    "start_time": "2024-10-09T02:45:17.566Z"
   },
   {
    "duration": 28,
    "start_time": "2024-10-09T02:45:17.571Z"
   },
   {
    "duration": 46,
    "start_time": "2024-10-09T02:45:17.600Z"
   },
   {
    "duration": 27,
    "start_time": "2024-10-09T02:45:17.648Z"
   },
   {
    "duration": 41,
    "start_time": "2024-10-09T02:45:17.677Z"
   },
   {
    "duration": 70,
    "start_time": "2024-10-09T02:45:17.721Z"
   },
   {
    "duration": 62,
    "start_time": "2024-10-09T02:45:17.793Z"
   },
   {
    "duration": 35,
    "start_time": "2024-10-09T02:45:17.857Z"
   },
   {
    "duration": 4,
    "start_time": "2024-10-09T02:45:17.894Z"
   },
   {
    "duration": 18,
    "start_time": "2024-10-09T02:45:17.899Z"
   },
   {
    "duration": 51,
    "start_time": "2024-10-09T02:45:17.919Z"
   },
   {
    "duration": 8,
    "start_time": "2024-10-09T02:45:17.972Z"
   },
   {
    "duration": 8,
    "start_time": "2024-10-09T02:45:17.982Z"
   },
   {
    "duration": 203,
    "start_time": "2024-10-09T02:45:17.992Z"
   },
   {
    "duration": 0,
    "start_time": "2024-10-09T02:45:18.197Z"
   },
   {
    "duration": 0,
    "start_time": "2024-10-09T02:45:18.198Z"
   },
   {
    "duration": 0,
    "start_time": "2024-10-09T02:45:18.199Z"
   },
   {
    "duration": 0,
    "start_time": "2024-10-09T02:45:18.200Z"
   },
   {
    "duration": 0,
    "start_time": "2024-10-09T02:45:18.201Z"
   },
   {
    "duration": 0,
    "start_time": "2024-10-09T02:45:18.202Z"
   },
   {
    "duration": 4,
    "start_time": "2024-10-09T02:46:08.797Z"
   },
   {
    "duration": 324,
    "start_time": "2024-10-09T02:46:15.455Z"
   },
   {
    "duration": 99,
    "start_time": "2024-10-09T02:46:15.781Z"
   },
   {
    "duration": 12,
    "start_time": "2024-10-09T02:46:15.882Z"
   },
   {
    "duration": 21,
    "start_time": "2024-10-09T02:46:15.896Z"
   },
   {
    "duration": 2,
    "start_time": "2024-10-09T02:46:15.920Z"
   },
   {
    "duration": 20,
    "start_time": "2024-10-09T02:46:15.924Z"
   },
   {
    "duration": 4,
    "start_time": "2024-10-09T02:46:15.946Z"
   },
   {
    "duration": 5,
    "start_time": "2024-10-09T02:46:15.951Z"
   },
   {
    "duration": 3,
    "start_time": "2024-10-09T02:46:15.958Z"
   },
   {
    "duration": 27,
    "start_time": "2024-10-09T02:46:15.962Z"
   },
   {
    "duration": 9,
    "start_time": "2024-10-09T02:46:15.990Z"
   },
   {
    "duration": 69,
    "start_time": "2024-10-09T02:46:16.001Z"
   },
   {
    "duration": 42,
    "start_time": "2024-10-09T02:46:16.072Z"
   },
   {
    "duration": 58,
    "start_time": "2024-10-09T02:46:16.118Z"
   },
   {
    "duration": 64,
    "start_time": "2024-10-09T02:46:16.178Z"
   },
   {
    "duration": 38,
    "start_time": "2024-10-09T02:46:16.244Z"
   },
   {
    "duration": 3,
    "start_time": "2024-10-09T02:46:16.284Z"
   },
   {
    "duration": 18,
    "start_time": "2024-10-09T02:46:16.289Z"
   },
   {
    "duration": 55,
    "start_time": "2024-10-09T02:46:16.308Z"
   },
   {
    "duration": 8,
    "start_time": "2024-10-09T02:46:16.365Z"
   },
   {
    "duration": 8,
    "start_time": "2024-10-09T02:46:16.374Z"
   },
   {
    "duration": 3,
    "start_time": "2024-10-09T02:46:16.384Z"
   },
   {
    "duration": 114,
    "start_time": "2024-10-09T02:46:16.388Z"
   },
   {
    "duration": 0,
    "start_time": "2024-10-09T02:46:16.504Z"
   },
   {
    "duration": 0,
    "start_time": "2024-10-09T02:46:16.505Z"
   },
   {
    "duration": 0,
    "start_time": "2024-10-09T02:46:16.506Z"
   },
   {
    "duration": 0,
    "start_time": "2024-10-09T02:46:16.508Z"
   },
   {
    "duration": 0,
    "start_time": "2024-10-09T02:46:16.509Z"
   },
   {
    "duration": 4,
    "start_time": "2024-10-09T02:47:37.120Z"
   },
   {
    "duration": 299,
    "start_time": "2024-10-09T02:47:46.988Z"
   },
   {
    "duration": 97,
    "start_time": "2024-10-09T02:47:47.290Z"
   },
   {
    "duration": 12,
    "start_time": "2024-10-09T02:47:47.389Z"
   },
   {
    "duration": 21,
    "start_time": "2024-10-09T02:47:47.404Z"
   },
   {
    "duration": 3,
    "start_time": "2024-10-09T02:47:47.442Z"
   },
   {
    "duration": 4,
    "start_time": "2024-10-09T02:47:47.446Z"
   },
   {
    "duration": 3,
    "start_time": "2024-10-09T02:47:47.452Z"
   },
   {
    "duration": 4,
    "start_time": "2024-10-09T02:47:47.457Z"
   },
   {
    "duration": 3,
    "start_time": "2024-10-09T02:47:47.463Z"
   },
   {
    "duration": 26,
    "start_time": "2024-10-09T02:47:47.470Z"
   },
   {
    "duration": 46,
    "start_time": "2024-10-09T02:47:47.498Z"
   },
   {
    "duration": 26,
    "start_time": "2024-10-09T02:47:47.546Z"
   },
   {
    "duration": 42,
    "start_time": "2024-10-09T02:47:47.574Z"
   },
   {
    "duration": 74,
    "start_time": "2024-10-09T02:47:47.618Z"
   },
   {
    "duration": 57,
    "start_time": "2024-10-09T02:47:47.694Z"
   },
   {
    "duration": 35,
    "start_time": "2024-10-09T02:47:47.753Z"
   },
   {
    "duration": 3,
    "start_time": "2024-10-09T02:47:47.790Z"
   },
   {
    "duration": 18,
    "start_time": "2024-10-09T02:47:47.794Z"
   },
   {
    "duration": 51,
    "start_time": "2024-10-09T02:47:47.813Z"
   },
   {
    "duration": 9,
    "start_time": "2024-10-09T02:47:47.866Z"
   },
   {
    "duration": 8,
    "start_time": "2024-10-09T02:47:47.876Z"
   },
   {
    "duration": 3,
    "start_time": "2024-10-09T02:47:47.885Z"
   },
   {
    "duration": 123,
    "start_time": "2024-10-09T02:47:47.890Z"
   },
   {
    "duration": 0,
    "start_time": "2024-10-09T02:47:48.015Z"
   },
   {
    "duration": 0,
    "start_time": "2024-10-09T02:47:48.016Z"
   },
   {
    "duration": 0,
    "start_time": "2024-10-09T02:47:48.017Z"
   },
   {
    "duration": 0,
    "start_time": "2024-10-09T02:47:48.019Z"
   },
   {
    "duration": 0,
    "start_time": "2024-10-09T02:47:48.020Z"
   },
   {
    "duration": 21,
    "start_time": "2024-10-09T02:48:19.950Z"
   },
   {
    "duration": 344,
    "start_time": "2024-10-09T02:48:38.333Z"
   },
   {
    "duration": 98,
    "start_time": "2024-10-09T02:48:38.680Z"
   },
   {
    "duration": 16,
    "start_time": "2024-10-09T02:48:38.780Z"
   },
   {
    "duration": 30,
    "start_time": "2024-10-09T02:48:38.797Z"
   },
   {
    "duration": 14,
    "start_time": "2024-10-09T02:48:38.830Z"
   },
   {
    "duration": 5,
    "start_time": "2024-10-09T02:48:38.845Z"
   },
   {
    "duration": 5,
    "start_time": "2024-10-09T02:48:38.851Z"
   },
   {
    "duration": 4,
    "start_time": "2024-10-09T02:48:38.858Z"
   },
   {
    "duration": 3,
    "start_time": "2024-10-09T02:48:38.864Z"
   },
   {
    "duration": 39,
    "start_time": "2024-10-09T02:48:38.868Z"
   },
   {
    "duration": 40,
    "start_time": "2024-10-09T02:48:38.909Z"
   },
   {
    "duration": 29,
    "start_time": "2024-10-09T02:48:38.951Z"
   },
   {
    "duration": 60,
    "start_time": "2024-10-09T02:48:38.983Z"
   },
   {
    "duration": 47,
    "start_time": "2024-10-09T02:48:39.048Z"
   },
   {
    "duration": 86,
    "start_time": "2024-10-09T02:48:39.097Z"
   },
   {
    "duration": 38,
    "start_time": "2024-10-09T02:48:39.185Z"
   },
   {
    "duration": 4,
    "start_time": "2024-10-09T02:48:39.225Z"
   },
   {
    "duration": 20,
    "start_time": "2024-10-09T02:48:39.244Z"
   },
   {
    "duration": 46,
    "start_time": "2024-10-09T02:48:39.265Z"
   },
   {
    "duration": 29,
    "start_time": "2024-10-09T02:48:39.315Z"
   },
   {
    "duration": 9,
    "start_time": "2024-10-09T02:48:39.346Z"
   },
   {
    "duration": 4,
    "start_time": "2024-10-09T02:48:39.359Z"
   },
   {
    "duration": 111,
    "start_time": "2024-10-09T02:48:39.364Z"
   },
   {
    "duration": 0,
    "start_time": "2024-10-09T02:48:39.477Z"
   },
   {
    "duration": 0,
    "start_time": "2024-10-09T02:48:39.478Z"
   },
   {
    "duration": 0,
    "start_time": "2024-10-09T02:48:39.479Z"
   },
   {
    "duration": 0,
    "start_time": "2024-10-09T02:48:39.481Z"
   },
   {
    "duration": 0,
    "start_time": "2024-10-09T02:48:39.482Z"
   },
   {
    "duration": 3,
    "start_time": "2024-10-09T02:50:12.748Z"
   },
   {
    "duration": 320,
    "start_time": "2024-10-09T02:50:20.074Z"
   },
   {
    "duration": 101,
    "start_time": "2024-10-09T02:50:20.397Z"
   },
   {
    "duration": 16,
    "start_time": "2024-10-09T02:50:20.500Z"
   },
   {
    "duration": 33,
    "start_time": "2024-10-09T02:50:20.519Z"
   },
   {
    "duration": 4,
    "start_time": "2024-10-09T02:50:20.553Z"
   },
   {
    "duration": 4,
    "start_time": "2024-10-09T02:50:20.559Z"
   },
   {
    "duration": 4,
    "start_time": "2024-10-09T02:50:20.565Z"
   },
   {
    "duration": 5,
    "start_time": "2024-10-09T02:50:20.571Z"
   },
   {
    "duration": 3,
    "start_time": "2024-10-09T02:50:20.578Z"
   },
   {
    "duration": 63,
    "start_time": "2024-10-09T02:50:20.584Z"
   },
   {
    "duration": 11,
    "start_time": "2024-10-09T02:50:20.649Z"
   },
   {
    "duration": 27,
    "start_time": "2024-10-09T02:50:20.662Z"
   },
   {
    "duration": 58,
    "start_time": "2024-10-09T02:50:20.691Z"
   },
   {
    "duration": 47,
    "start_time": "2024-10-09T02:50:20.751Z"
   },
   {
    "duration": 73,
    "start_time": "2024-10-09T02:50:20.799Z"
   },
   {
    "duration": 35,
    "start_time": "2024-10-09T02:50:20.874Z"
   },
   {
    "duration": 3,
    "start_time": "2024-10-09T02:50:20.911Z"
   },
   {
    "duration": 37,
    "start_time": "2024-10-09T02:50:20.916Z"
   },
   {
    "duration": 35,
    "start_time": "2024-10-09T02:50:20.955Z"
   },
   {
    "duration": 9,
    "start_time": "2024-10-09T02:50:20.992Z"
   },
   {
    "duration": 8,
    "start_time": "2024-10-09T02:50:21.002Z"
   },
   {
    "duration": 3,
    "start_time": "2024-10-09T02:50:21.012Z"
   },
   {
    "duration": 133,
    "start_time": "2024-10-09T02:50:21.017Z"
   },
   {
    "duration": 0,
    "start_time": "2024-10-09T02:50:21.153Z"
   },
   {
    "duration": 0,
    "start_time": "2024-10-09T02:50:21.155Z"
   },
   {
    "duration": 0,
    "start_time": "2024-10-09T02:50:21.156Z"
   },
   {
    "duration": 0,
    "start_time": "2024-10-09T02:50:21.157Z"
   },
   {
    "duration": 0,
    "start_time": "2024-10-09T02:50:21.158Z"
   },
   {
    "duration": 4,
    "start_time": "2024-10-09T02:52:27.071Z"
   },
   {
    "duration": 4,
    "start_time": "2024-10-09T02:53:23.217Z"
   },
   {
    "duration": 21,
    "start_time": "2024-10-09T02:53:45.924Z"
   },
   {
    "duration": 297,
    "start_time": "2024-10-09T02:55:00.039Z"
   },
   {
    "duration": 93,
    "start_time": "2024-10-09T02:55:00.338Z"
   },
   {
    "duration": 13,
    "start_time": "2024-10-09T02:55:00.433Z"
   },
   {
    "duration": 21,
    "start_time": "2024-10-09T02:55:00.449Z"
   },
   {
    "duration": 4,
    "start_time": "2024-10-09T02:55:00.471Z"
   },
   {
    "duration": 6,
    "start_time": "2024-10-09T02:55:00.477Z"
   },
   {
    "duration": 5,
    "start_time": "2024-10-09T02:55:00.485Z"
   },
   {
    "duration": 13,
    "start_time": "2024-10-09T02:55:00.494Z"
   },
   {
    "duration": 4,
    "start_time": "2024-10-09T02:55:00.512Z"
   },
   {
    "duration": 31,
    "start_time": "2024-10-09T02:55:00.548Z"
   },
   {
    "duration": 10,
    "start_time": "2024-10-09T02:55:00.580Z"
   },
   {
    "duration": 26,
    "start_time": "2024-10-09T02:55:00.592Z"
   },
   {
    "duration": 63,
    "start_time": "2024-10-09T02:55:00.620Z"
   },
   {
    "duration": 58,
    "start_time": "2024-10-09T02:55:00.685Z"
   },
   {
    "duration": 64,
    "start_time": "2024-10-09T02:55:00.745Z"
   },
   {
    "duration": 53,
    "start_time": "2024-10-09T02:55:00.810Z"
   },
   {
    "duration": 3,
    "start_time": "2024-10-09T02:55:00.865Z"
   },
   {
    "duration": 17,
    "start_time": "2024-10-09T02:55:00.870Z"
   },
   {
    "duration": 34,
    "start_time": "2024-10-09T02:55:00.889Z"
   },
   {
    "duration": 26,
    "start_time": "2024-10-09T02:55:00.925Z"
   },
   {
    "duration": 9,
    "start_time": "2024-10-09T02:55:00.953Z"
   },
   {
    "duration": 3,
    "start_time": "2024-10-09T02:55:00.964Z"
   },
   {
    "duration": 2,
    "start_time": "2024-10-09T02:55:00.969Z"
   },
   {
    "duration": 2,
    "start_time": "2024-10-09T02:55:00.973Z"
   },
   {
    "duration": 3,
    "start_time": "2024-10-09T02:55:00.976Z"
   },
   {
    "duration": 2,
    "start_time": "2024-10-09T02:55:00.980Z"
   },
   {
    "duration": 2,
    "start_time": "2024-10-09T02:55:00.984Z"
   },
   {
    "duration": 2,
    "start_time": "2024-10-09T02:55:00.990Z"
   },
   {
    "duration": 180,
    "start_time": "2024-10-09T02:55:19.569Z"
   },
   {
    "duration": 15,
    "start_time": "2024-10-09T02:55:27.454Z"
   },
   {
    "duration": 3,
    "start_time": "2024-10-09T02:56:31.469Z"
   },
   {
    "duration": 338,
    "start_time": "2024-10-09T02:56:48.357Z"
   },
   {
    "duration": 95,
    "start_time": "2024-10-09T02:56:48.697Z"
   },
   {
    "duration": 12,
    "start_time": "2024-10-09T02:56:48.794Z"
   },
   {
    "duration": 35,
    "start_time": "2024-10-09T02:56:48.808Z"
   },
   {
    "duration": 3,
    "start_time": "2024-10-09T02:56:48.846Z"
   },
   {
    "duration": 4,
    "start_time": "2024-10-09T02:56:48.850Z"
   },
   {
    "duration": 4,
    "start_time": "2024-10-09T02:56:48.856Z"
   },
   {
    "duration": 3,
    "start_time": "2024-10-09T02:56:48.862Z"
   },
   {
    "duration": 3,
    "start_time": "2024-10-09T02:56:48.867Z"
   },
   {
    "duration": 26,
    "start_time": "2024-10-09T02:56:48.871Z"
   },
   {
    "duration": 45,
    "start_time": "2024-10-09T02:56:48.898Z"
   },
   {
    "duration": 27,
    "start_time": "2024-10-09T02:56:48.945Z"
   },
   {
    "duration": 42,
    "start_time": "2024-10-09T02:56:48.974Z"
   },
   {
    "duration": 73,
    "start_time": "2024-10-09T02:56:49.019Z"
   },
   {
    "duration": 72,
    "start_time": "2024-10-09T02:56:49.096Z"
   },
   {
    "duration": 36,
    "start_time": "2024-10-09T02:56:49.170Z"
   },
   {
    "duration": 4,
    "start_time": "2024-10-09T02:56:49.208Z"
   },
   {
    "duration": 39,
    "start_time": "2024-10-09T02:56:49.213Z"
   },
   {
    "duration": 38,
    "start_time": "2024-10-09T02:56:49.253Z"
   },
   {
    "duration": 8,
    "start_time": "2024-10-09T02:56:49.293Z"
   },
   {
    "duration": 8,
    "start_time": "2024-10-09T02:56:49.304Z"
   },
   {
    "duration": 3,
    "start_time": "2024-10-09T02:56:49.314Z"
   },
   {
    "duration": 3,
    "start_time": "2024-10-09T02:56:49.344Z"
   },
   {
    "duration": 2,
    "start_time": "2024-10-09T02:56:49.348Z"
   },
   {
    "duration": 2,
    "start_time": "2024-10-09T02:56:49.352Z"
   },
   {
    "duration": 2,
    "start_time": "2024-10-09T02:56:49.356Z"
   },
   {
    "duration": 2,
    "start_time": "2024-10-09T02:56:49.360Z"
   },
   {
    "duration": 2,
    "start_time": "2024-10-09T02:56:49.364Z"
   },
   {
    "duration": 3,
    "start_time": "2024-10-09T02:57:38.189Z"
   },
   {
    "duration": 3,
    "start_time": "2024-10-09T02:58:00.378Z"
   },
   {
    "duration": 178,
    "start_time": "2024-10-09T02:58:15.241Z"
   },
   {
    "duration": 4,
    "start_time": "2024-10-09T02:58:44.572Z"
   },
   {
    "duration": 3,
    "start_time": "2024-10-09T02:59:02.609Z"
   },
   {
    "duration": 3,
    "start_time": "2024-10-09T02:59:49.242Z"
   },
   {
    "duration": 3,
    "start_time": "2024-10-09T02:59:53.895Z"
   },
   {
    "duration": 15,
    "start_time": "2024-10-09T03:00:10.604Z"
   },
   {
    "duration": 3,
    "start_time": "2024-10-09T03:00:22.138Z"
   },
   {
    "duration": 22,
    "start_time": "2024-10-09T03:01:15.167Z"
   },
   {
    "duration": 22,
    "start_time": "2024-10-09T03:01:38.389Z"
   },
   {
    "duration": 20,
    "start_time": "2024-10-09T03:04:24.768Z"
   },
   {
    "duration": 290,
    "start_time": "2024-10-09T03:07:26.604Z"
   },
   {
    "duration": 94,
    "start_time": "2024-10-09T03:07:26.896Z"
   },
   {
    "duration": 12,
    "start_time": "2024-10-09T03:07:26.992Z"
   },
   {
    "duration": 21,
    "start_time": "2024-10-09T03:07:27.005Z"
   },
   {
    "duration": 3,
    "start_time": "2024-10-09T03:07:27.042Z"
   },
   {
    "duration": 3,
    "start_time": "2024-10-09T03:07:27.047Z"
   },
   {
    "duration": 3,
    "start_time": "2024-10-09T03:07:27.052Z"
   },
   {
    "duration": 4,
    "start_time": "2024-10-09T03:07:27.057Z"
   },
   {
    "duration": 3,
    "start_time": "2024-10-09T03:07:27.064Z"
   },
   {
    "duration": 26,
    "start_time": "2024-10-09T03:07:27.069Z"
   },
   {
    "duration": 10,
    "start_time": "2024-10-09T03:07:27.097Z"
   },
   {
    "duration": 27,
    "start_time": "2024-10-09T03:07:27.143Z"
   },
   {
    "duration": 43,
    "start_time": "2024-10-09T03:07:27.173Z"
   },
   {
    "duration": 67,
    "start_time": "2024-10-09T03:07:27.220Z"
   },
   {
    "duration": 79,
    "start_time": "2024-10-09T03:07:27.288Z"
   },
   {
    "duration": 35,
    "start_time": "2024-10-09T03:07:27.369Z"
   },
   {
    "duration": 2,
    "start_time": "2024-10-09T03:07:27.406Z"
   },
   {
    "duration": 34,
    "start_time": "2024-10-09T03:07:27.410Z"
   },
   {
    "duration": 34,
    "start_time": "2024-10-09T03:07:27.446Z"
   },
   {
    "duration": 9,
    "start_time": "2024-10-09T03:07:27.482Z"
   },
   {
    "duration": 8,
    "start_time": "2024-10-09T03:07:27.492Z"
   },
   {
    "duration": 2,
    "start_time": "2024-10-09T03:07:27.502Z"
   },
   {
    "duration": 3,
    "start_time": "2024-10-09T03:07:27.506Z"
   },
   {
    "duration": 3,
    "start_time": "2024-10-09T03:07:27.510Z"
   },
   {
    "duration": 2,
    "start_time": "2024-10-09T03:07:27.543Z"
   },
   {
    "duration": 2,
    "start_time": "2024-10-09T03:07:27.547Z"
   },
   {
    "duration": 3,
    "start_time": "2024-10-09T03:07:27.551Z"
   },
   {
    "duration": 2,
    "start_time": "2024-10-09T03:07:27.555Z"
   },
   {
    "duration": 3,
    "start_time": "2024-10-09T03:07:36.761Z"
   },
   {
    "duration": 185,
    "start_time": "2024-10-09T03:08:20.909Z"
   },
   {
    "duration": 15,
    "start_time": "2024-10-09T03:08:41.564Z"
   },
   {
    "duration": 6,
    "start_time": "2024-10-09T03:08:54.246Z"
   },
   {
    "duration": 4,
    "start_time": "2024-10-09T03:09:54.742Z"
   },
   {
    "duration": 24,
    "start_time": "2024-10-09T03:11:37.398Z"
   },
   {
    "duration": 287,
    "start_time": "2024-10-09T03:12:24.699Z"
   },
   {
    "duration": 99,
    "start_time": "2024-10-09T03:12:24.988Z"
   },
   {
    "duration": 12,
    "start_time": "2024-10-09T03:12:25.088Z"
   },
   {
    "duration": 21,
    "start_time": "2024-10-09T03:12:25.103Z"
   },
   {
    "duration": 3,
    "start_time": "2024-10-09T03:12:25.142Z"
   },
   {
    "duration": 4,
    "start_time": "2024-10-09T03:12:25.146Z"
   },
   {
    "duration": 3,
    "start_time": "2024-10-09T03:12:25.152Z"
   },
   {
    "duration": 4,
    "start_time": "2024-10-09T03:12:25.157Z"
   },
   {
    "duration": 3,
    "start_time": "2024-10-09T03:12:25.162Z"
   },
   {
    "duration": 35,
    "start_time": "2024-10-09T03:12:25.167Z"
   },
   {
    "duration": 42,
    "start_time": "2024-10-09T03:12:25.204Z"
   },
   {
    "duration": 27,
    "start_time": "2024-10-09T03:12:25.248Z"
   },
   {
    "duration": 45,
    "start_time": "2024-10-09T03:12:25.278Z"
   },
   {
    "duration": 46,
    "start_time": "2024-10-09T03:12:25.342Z"
   },
   {
    "duration": 68,
    "start_time": "2024-10-09T03:12:25.389Z"
   },
   {
    "duration": 35,
    "start_time": "2024-10-09T03:12:25.459Z"
   },
   {
    "duration": 3,
    "start_time": "2024-10-09T03:12:25.495Z"
   },
   {
    "duration": 18,
    "start_time": "2024-10-09T03:12:25.500Z"
   },
   {
    "duration": 51,
    "start_time": "2024-10-09T03:12:25.519Z"
   },
   {
    "duration": 9,
    "start_time": "2024-10-09T03:12:25.572Z"
   },
   {
    "duration": 8,
    "start_time": "2024-10-09T03:12:25.582Z"
   },
   {
    "duration": 2,
    "start_time": "2024-10-09T03:12:25.592Z"
   },
   {
    "duration": 2,
    "start_time": "2024-10-09T03:12:25.596Z"
   },
   {
    "duration": 2,
    "start_time": "2024-10-09T03:12:25.600Z"
   },
   {
    "duration": 2,
    "start_time": "2024-10-09T03:12:25.604Z"
   },
   {
    "duration": 2,
    "start_time": "2024-10-09T03:12:25.643Z"
   },
   {
    "duration": 2,
    "start_time": "2024-10-09T03:12:25.648Z"
   },
   {
    "duration": 2,
    "start_time": "2024-10-09T03:12:25.652Z"
   },
   {
    "duration": 17,
    "start_time": "2024-10-09T03:12:50.818Z"
   },
   {
    "duration": 109,
    "start_time": "2024-10-09T03:17:58.498Z"
   },
   {
    "duration": 33,
    "start_time": "2024-10-09T03:18:30.286Z"
   },
   {
    "duration": 290,
    "start_time": "2024-10-09T03:19:06.208Z"
   },
   {
    "duration": 96,
    "start_time": "2024-10-09T03:19:06.501Z"
   },
   {
    "duration": 13,
    "start_time": "2024-10-09T03:19:06.599Z"
   },
   {
    "duration": 33,
    "start_time": "2024-10-09T03:19:06.613Z"
   },
   {
    "duration": 3,
    "start_time": "2024-10-09T03:19:06.649Z"
   },
   {
    "duration": 4,
    "start_time": "2024-10-09T03:19:06.653Z"
   },
   {
    "duration": 3,
    "start_time": "2024-10-09T03:19:06.659Z"
   },
   {
    "duration": 3,
    "start_time": "2024-10-09T03:19:06.664Z"
   },
   {
    "duration": 2,
    "start_time": "2024-10-09T03:19:06.669Z"
   },
   {
    "duration": 27,
    "start_time": "2024-10-09T03:19:06.673Z"
   },
   {
    "duration": 42,
    "start_time": "2024-10-09T03:19:06.701Z"
   },
   {
    "duration": 28,
    "start_time": "2024-10-09T03:19:06.745Z"
   },
   {
    "duration": 42,
    "start_time": "2024-10-09T03:19:06.774Z"
   },
   {
    "duration": 69,
    "start_time": "2024-10-09T03:19:06.820Z"
   },
   {
    "duration": 64,
    "start_time": "2024-10-09T03:19:06.891Z"
   },
   {
    "duration": 36,
    "start_time": "2024-10-09T03:19:06.957Z"
   },
   {
    "duration": 3,
    "start_time": "2024-10-09T03:19:06.995Z"
   },
   {
    "duration": 18,
    "start_time": "2024-10-09T03:19:07.000Z"
   },
   {
    "duration": 60,
    "start_time": "2024-10-09T03:19:07.019Z"
   },
   {
    "duration": 10,
    "start_time": "2024-10-09T03:19:07.081Z"
   },
   {
    "duration": 10,
    "start_time": "2024-10-09T03:19:07.093Z"
   },
   {
    "duration": 3,
    "start_time": "2024-10-09T03:19:07.105Z"
   },
   {
    "duration": 46,
    "start_time": "2024-10-09T03:19:07.110Z"
   },
   {
    "duration": 3,
    "start_time": "2024-10-09T03:19:07.157Z"
   },
   {
    "duration": 3,
    "start_time": "2024-10-09T03:19:07.161Z"
   },
   {
    "duration": 3,
    "start_time": "2024-10-09T03:19:07.165Z"
   },
   {
    "duration": 2,
    "start_time": "2024-10-09T03:19:07.169Z"
   },
   {
    "duration": 2,
    "start_time": "2024-10-09T03:19:07.173Z"
   },
   {
    "duration": 3,
    "start_time": "2024-10-09T03:19:32.212Z"
   },
   {
    "duration": 5,
    "start_time": "2024-10-09T03:28:43.647Z"
   },
   {
    "duration": 4,
    "start_time": "2024-10-09T03:29:22.196Z"
   },
   {
    "duration": 4,
    "start_time": "2024-10-09T03:29:45.478Z"
   },
   {
    "duration": 3,
    "start_time": "2024-10-09T03:30:07.261Z"
   },
   {
    "duration": 12,
    "start_time": "2024-10-09T03:30:26.471Z"
   },
   {
    "duration": 17,
    "start_time": "2024-10-09T03:30:59.309Z"
   },
   {
    "duration": 15,
    "start_time": "2024-10-09T03:32:22.580Z"
   },
   {
    "duration": 499,
    "start_time": "2024-10-09T03:33:43.862Z"
   },
   {
    "duration": 303,
    "start_time": "2024-10-09T03:33:49.884Z"
   },
   {
    "duration": 98,
    "start_time": "2024-10-09T03:33:50.189Z"
   },
   {
    "duration": 13,
    "start_time": "2024-10-09T03:33:50.289Z"
   },
   {
    "duration": 22,
    "start_time": "2024-10-09T03:33:50.304Z"
   },
   {
    "duration": 16,
    "start_time": "2024-10-09T03:33:50.327Z"
   },
   {
    "duration": 3,
    "start_time": "2024-10-09T03:33:50.345Z"
   },
   {
    "duration": 4,
    "start_time": "2024-10-09T03:33:50.350Z"
   },
   {
    "duration": 4,
    "start_time": "2024-10-09T03:33:50.356Z"
   },
   {
    "duration": 3,
    "start_time": "2024-10-09T03:33:50.362Z"
   },
   {
    "duration": 29,
    "start_time": "2024-10-09T03:33:50.368Z"
   },
   {
    "duration": 46,
    "start_time": "2024-10-09T03:33:50.399Z"
   },
   {
    "duration": 27,
    "start_time": "2024-10-09T03:33:50.446Z"
   },
   {
    "duration": 74,
    "start_time": "2024-10-09T03:33:50.475Z"
   },
   {
    "duration": 48,
    "start_time": "2024-10-09T03:33:50.551Z"
   },
   {
    "duration": 71,
    "start_time": "2024-10-09T03:33:50.601Z"
   },
   {
    "duration": 35,
    "start_time": "2024-10-09T03:33:50.673Z"
   },
   {
    "duration": 3,
    "start_time": "2024-10-09T03:33:50.710Z"
   },
   {
    "duration": 36,
    "start_time": "2024-10-09T03:33:50.714Z"
   },
   {
    "duration": 35,
    "start_time": "2024-10-09T03:33:50.753Z"
   },
   {
    "duration": 9,
    "start_time": "2024-10-09T03:33:50.790Z"
   },
   {
    "duration": 9,
    "start_time": "2024-10-09T03:33:50.801Z"
   },
   {
    "duration": 2,
    "start_time": "2024-10-09T03:33:50.811Z"
   },
   {
    "duration": 534,
    "start_time": "2024-10-09T03:33:50.815Z"
   },
   {
    "duration": 0,
    "start_time": "2024-10-09T03:33:51.351Z"
   },
   {
    "duration": 0,
    "start_time": "2024-10-09T03:33:51.353Z"
   },
   {
    "duration": 0,
    "start_time": "2024-10-09T03:33:51.355Z"
   },
   {
    "duration": 0,
    "start_time": "2024-10-09T03:33:51.356Z"
   },
   {
    "duration": 0,
    "start_time": "2024-10-09T03:33:51.357Z"
   },
   {
    "duration": 0,
    "start_time": "2024-10-09T03:33:51.359Z"
   },
   {
    "duration": 16,
    "start_time": "2024-10-09T03:34:09.204Z"
   },
   {
    "duration": 5,
    "start_time": "2024-10-09T03:35:22.278Z"
   },
   {
    "duration": 20,
    "start_time": "2024-10-09T03:35:33.860Z"
   },
   {
    "duration": 17,
    "start_time": "2024-10-09T03:36:45.716Z"
   },
   {
    "duration": 16,
    "start_time": "2024-10-09T03:38:28.960Z"
   },
   {
    "duration": 14,
    "start_time": "2024-10-09T03:39:02.984Z"
   },
   {
    "duration": 19,
    "start_time": "2024-10-09T03:46:52.761Z"
   },
   {
    "duration": 3,
    "start_time": "2024-10-09T03:51:38.205Z"
   },
   {
    "duration": 14,
    "start_time": "2024-10-09T03:53:16.501Z"
   },
   {
    "duration": 14,
    "start_time": "2024-10-09T03:55:42.022Z"
   },
   {
    "duration": 6,
    "start_time": "2024-10-09T03:59:30.989Z"
   },
   {
    "duration": 14,
    "start_time": "2024-10-09T03:59:39.246Z"
   },
   {
    "duration": 14,
    "start_time": "2024-10-09T03:59:54.463Z"
   },
   {
    "duration": 311,
    "start_time": "2024-10-09T04:01:44.447Z"
   },
   {
    "duration": 97,
    "start_time": "2024-10-09T04:01:44.761Z"
   },
   {
    "duration": 12,
    "start_time": "2024-10-09T04:01:44.860Z"
   },
   {
    "duration": 25,
    "start_time": "2024-10-09T04:01:44.874Z"
   },
   {
    "duration": 3,
    "start_time": "2024-10-09T04:01:44.901Z"
   },
   {
    "duration": 4,
    "start_time": "2024-10-09T04:01:44.906Z"
   },
   {
    "duration": 3,
    "start_time": "2024-10-09T04:01:44.912Z"
   },
   {
    "duration": 29,
    "start_time": "2024-10-09T04:01:44.916Z"
   },
   {
    "duration": 3,
    "start_time": "2024-10-09T04:01:44.946Z"
   },
   {
    "duration": 39,
    "start_time": "2024-10-09T04:01:44.951Z"
   },
   {
    "duration": 14,
    "start_time": "2024-10-09T04:01:44.992Z"
   },
   {
    "duration": 61,
    "start_time": "2024-10-09T04:01:45.008Z"
   },
   {
    "duration": 43,
    "start_time": "2024-10-09T04:01:45.071Z"
   },
   {
    "duration": 66,
    "start_time": "2024-10-09T04:01:45.119Z"
   },
   {
    "duration": 61,
    "start_time": "2024-10-09T04:01:45.188Z"
   },
   {
    "duration": 34,
    "start_time": "2024-10-09T04:01:45.251Z"
   },
   {
    "duration": 3,
    "start_time": "2024-10-09T04:01:45.287Z"
   },
   {
    "duration": 17,
    "start_time": "2024-10-09T04:01:45.292Z"
   },
   {
    "duration": 56,
    "start_time": "2024-10-09T04:01:45.311Z"
   },
   {
    "duration": 10,
    "start_time": "2024-10-09T04:01:45.369Z"
   },
   {
    "duration": 8,
    "start_time": "2024-10-09T04:01:45.382Z"
   },
   {
    "duration": 2,
    "start_time": "2024-10-09T04:01:45.392Z"
   },
   {
    "duration": 13,
    "start_time": "2024-10-09T04:01:45.396Z"
   },
   {
    "duration": 41,
    "start_time": "2024-10-09T04:01:45.411Z"
   },
   {
    "duration": 2,
    "start_time": "2024-10-09T04:01:45.454Z"
   },
   {
    "duration": 3,
    "start_time": "2024-10-09T04:01:45.458Z"
   },
   {
    "duration": 2,
    "start_time": "2024-10-09T04:01:45.464Z"
   },
   {
    "duration": 2,
    "start_time": "2024-10-09T04:01:45.468Z"
   },
   {
    "duration": 2,
    "start_time": "2024-10-09T04:01:45.472Z"
   },
   {
    "duration": 3,
    "start_time": "2024-10-09T04:01:45.475Z"
   },
   {
    "duration": 311,
    "start_time": "2024-10-09T04:02:25.346Z"
   },
   {
    "duration": 99,
    "start_time": "2024-10-09T04:02:25.660Z"
   },
   {
    "duration": 12,
    "start_time": "2024-10-09T04:02:25.760Z"
   },
   {
    "duration": 21,
    "start_time": "2024-10-09T04:02:25.773Z"
   },
   {
    "duration": 3,
    "start_time": "2024-10-09T04:02:25.797Z"
   },
   {
    "duration": 4,
    "start_time": "2024-10-09T04:02:25.802Z"
   },
   {
    "duration": 36,
    "start_time": "2024-10-09T04:02:25.807Z"
   },
   {
    "duration": 4,
    "start_time": "2024-10-09T04:02:25.844Z"
   },
   {
    "duration": 3,
    "start_time": "2024-10-09T04:02:25.850Z"
   },
   {
    "duration": 29,
    "start_time": "2024-10-09T04:02:25.855Z"
   },
   {
    "duration": 11,
    "start_time": "2024-10-09T04:02:25.885Z"
   },
   {
    "duration": 53,
    "start_time": "2024-10-09T04:02:25.898Z"
   },
   {
    "duration": 44,
    "start_time": "2024-10-09T04:02:25.953Z"
   },
   {
    "duration": 63,
    "start_time": "2024-10-09T04:02:26.001Z"
   },
   {
    "duration": 57,
    "start_time": "2024-10-09T04:02:26.065Z"
   },
   {
    "duration": 49,
    "start_time": "2024-10-09T04:02:26.124Z"
   },
   {
    "duration": 3,
    "start_time": "2024-10-09T04:02:26.175Z"
   },
   {
    "duration": 18,
    "start_time": "2024-10-09T04:02:26.179Z"
   },
   {
    "duration": 54,
    "start_time": "2024-10-09T04:02:26.198Z"
   },
   {
    "duration": 11,
    "start_time": "2024-10-09T04:02:26.253Z"
   },
   {
    "duration": 10,
    "start_time": "2024-10-09T04:02:26.266Z"
   },
   {
    "duration": 3,
    "start_time": "2024-10-09T04:02:26.278Z"
   },
   {
    "duration": 17,
    "start_time": "2024-10-09T04:02:26.285Z"
   },
   {
    "duration": 3,
    "start_time": "2024-10-09T04:02:26.304Z"
   },
   {
    "duration": 36,
    "start_time": "2024-10-09T04:02:26.308Z"
   },
   {
    "duration": 2,
    "start_time": "2024-10-09T04:02:26.346Z"
   },
   {
    "duration": 2,
    "start_time": "2024-10-09T04:02:26.350Z"
   },
   {
    "duration": 2,
    "start_time": "2024-10-09T04:02:26.354Z"
   },
   {
    "duration": 3,
    "start_time": "2024-10-09T04:02:26.357Z"
   },
   {
    "duration": 3,
    "start_time": "2024-10-09T04:03:37.879Z"
   },
   {
    "duration": 13,
    "start_time": "2024-10-09T04:03:40.781Z"
   },
   {
    "duration": 3,
    "start_time": "2024-10-09T04:04:15.920Z"
   },
   {
    "duration": 14,
    "start_time": "2024-10-09T04:04:17.718Z"
   },
   {
    "duration": 12,
    "start_time": "2024-10-09T04:06:33.250Z"
   },
   {
    "duration": 3,
    "start_time": "2024-10-09T04:08:29.768Z"
   },
   {
    "duration": 3,
    "start_time": "2024-10-09T04:09:42.973Z"
   },
   {
    "duration": 179,
    "start_time": "2024-10-09T04:11:07.412Z"
   },
   {
    "duration": 15,
    "start_time": "2024-10-09T04:12:52.176Z"
   },
   {
    "duration": 14,
    "start_time": "2024-10-09T04:13:29.380Z"
   },
   {
    "duration": 13,
    "start_time": "2024-10-09T04:14:59.253Z"
   },
   {
    "duration": 289,
    "start_time": "2024-10-09T04:18:07.536Z"
   },
   {
    "duration": 97,
    "start_time": "2024-10-09T04:18:07.827Z"
   },
   {
    "duration": 11,
    "start_time": "2024-10-09T04:18:07.926Z"
   },
   {
    "duration": 23,
    "start_time": "2024-10-09T04:18:07.944Z"
   },
   {
    "duration": 4,
    "start_time": "2024-10-09T04:18:07.968Z"
   },
   {
    "duration": 4,
    "start_time": "2024-10-09T04:18:07.974Z"
   },
   {
    "duration": 4,
    "start_time": "2024-10-09T04:18:07.980Z"
   },
   {
    "duration": 5,
    "start_time": "2024-10-09T04:18:07.985Z"
   },
   {
    "duration": 2,
    "start_time": "2024-10-09T04:18:07.992Z"
   },
   {
    "duration": 61,
    "start_time": "2024-10-09T04:18:07.998Z"
   },
   {
    "duration": 10,
    "start_time": "2024-10-09T04:18:08.061Z"
   },
   {
    "duration": 27,
    "start_time": "2024-10-09T04:18:08.073Z"
   },
   {
    "duration": 69,
    "start_time": "2024-10-09T04:18:08.101Z"
   },
   {
    "duration": 44,
    "start_time": "2024-10-09T04:18:08.172Z"
   },
   {
    "duration": 70,
    "start_time": "2024-10-09T04:18:08.218Z"
   },
   {
    "duration": 36,
    "start_time": "2024-10-09T04:18:08.290Z"
   },
   {
    "duration": 15,
    "start_time": "2024-10-09T04:18:08.328Z"
   },
   {
    "duration": 19,
    "start_time": "2024-10-09T04:18:08.344Z"
   },
   {
    "duration": 34,
    "start_time": "2024-10-09T04:18:08.364Z"
   },
   {
    "duration": 8,
    "start_time": "2024-10-09T04:18:08.400Z"
   },
   {
    "duration": 8,
    "start_time": "2024-10-09T04:18:08.411Z"
   },
   {
    "duration": 23,
    "start_time": "2024-10-09T04:18:08.420Z"
   },
   {
    "duration": 4,
    "start_time": "2024-10-09T04:18:08.444Z"
   },
   {
    "duration": 14,
    "start_time": "2024-10-09T04:18:08.449Z"
   },
   {
    "duration": 11,
    "start_time": "2024-10-09T04:18:08.464Z"
   },
   {
    "duration": 12,
    "start_time": "2024-10-09T04:18:08.476Z"
   },
   {
    "duration": 10,
    "start_time": "2024-10-09T04:18:08.490Z"
   },
   {
    "duration": 45,
    "start_time": "2024-10-09T04:18:08.504Z"
   },
   {
    "duration": 11,
    "start_time": "2024-10-09T04:18:08.550Z"
   },
   {
    "duration": 284,
    "start_time": "2024-10-09T04:56:51.813Z"
   },
   {
    "duration": 96,
    "start_time": "2024-10-09T04:56:52.099Z"
   },
   {
    "duration": 12,
    "start_time": "2024-10-09T04:56:52.197Z"
   },
   {
    "duration": 35,
    "start_time": "2024-10-09T04:56:52.211Z"
   },
   {
    "duration": 3,
    "start_time": "2024-10-09T04:56:52.248Z"
   },
   {
    "duration": 4,
    "start_time": "2024-10-09T04:56:52.252Z"
   },
   {
    "duration": 3,
    "start_time": "2024-10-09T04:56:52.258Z"
   },
   {
    "duration": 4,
    "start_time": "2024-10-09T04:56:52.263Z"
   },
   {
    "duration": 3,
    "start_time": "2024-10-09T04:56:52.268Z"
   },
   {
    "duration": 27,
    "start_time": "2024-10-09T04:56:52.274Z"
   },
   {
    "duration": 46,
    "start_time": "2024-10-09T04:56:52.302Z"
   },
   {
    "duration": 27,
    "start_time": "2024-10-09T04:56:52.350Z"
   },
   {
    "duration": 42,
    "start_time": "2024-10-09T04:56:52.379Z"
   },
   {
    "duration": 46,
    "start_time": "2024-10-09T04:56:52.444Z"
   },
   {
    "duration": 64,
    "start_time": "2024-10-09T04:56:52.492Z"
   },
   {
    "duration": 39,
    "start_time": "2024-10-09T04:56:52.558Z"
   },
   {
    "duration": 3,
    "start_time": "2024-10-09T04:56:52.598Z"
   },
   {
    "duration": 39,
    "start_time": "2024-10-09T04:56:52.603Z"
   },
   {
    "duration": 35,
    "start_time": "2024-10-09T04:56:52.644Z"
   },
   {
    "duration": 9,
    "start_time": "2024-10-09T04:56:52.681Z"
   },
   {
    "duration": 8,
    "start_time": "2024-10-09T04:56:52.692Z"
   },
   {
    "duration": 2,
    "start_time": "2024-10-09T04:56:52.701Z"
   },
   {
    "duration": 3,
    "start_time": "2024-10-09T04:56:52.705Z"
   },
   {
    "duration": 42,
    "start_time": "2024-10-09T04:56:52.709Z"
   },
   {
    "duration": 11,
    "start_time": "2024-10-09T04:56:52.753Z"
   },
   {
    "duration": 11,
    "start_time": "2024-10-09T04:56:52.766Z"
   },
   {
    "duration": 10,
    "start_time": "2024-10-09T04:56:52.779Z"
   },
   {
    "duration": 12,
    "start_time": "2024-10-09T04:56:52.793Z"
   },
   {
    "duration": 40,
    "start_time": "2024-10-09T04:56:52.806Z"
   },
   {
    "duration": 331,
    "start_time": "2024-10-09T05:50:03.137Z"
   },
   {
    "duration": 102,
    "start_time": "2024-10-09T05:50:03.470Z"
   },
   {
    "duration": 12,
    "start_time": "2024-10-09T05:50:03.574Z"
   },
   {
    "duration": 32,
    "start_time": "2024-10-09T05:50:03.588Z"
   },
   {
    "duration": 3,
    "start_time": "2024-10-09T05:50:04.989Z"
   },
   {
    "duration": 4,
    "start_time": "2024-10-09T05:50:06.812Z"
   },
   {
    "duration": 4,
    "start_time": "2024-10-09T05:50:08.511Z"
   },
   {
    "duration": 4,
    "start_time": "2024-10-09T05:50:12.083Z"
   },
   {
    "duration": 3,
    "start_time": "2024-10-09T05:50:14.212Z"
   },
   {
    "duration": 31,
    "start_time": "2024-10-09T05:50:32.348Z"
   },
   {
    "duration": 10,
    "start_time": "2024-10-09T05:50:42.743Z"
   },
   {
    "duration": 28,
    "start_time": "2024-10-09T05:50:44.468Z"
   },
   {
    "duration": 47,
    "start_time": "2024-10-09T05:51:09.816Z"
   },
   {
    "duration": 51,
    "start_time": "2024-10-09T05:51:11.669Z"
   },
   {
    "duration": 58,
    "start_time": "2024-10-09T05:51:13.685Z"
   },
   {
    "duration": 35,
    "start_time": "2024-10-09T05:51:27.222Z"
   },
   {
    "duration": 3,
    "start_time": "2024-10-09T05:51:30.103Z"
   },
   {
    "duration": 19,
    "start_time": "2024-10-09T05:51:31.780Z"
   },
   {
    "duration": 35,
    "start_time": "2024-10-09T05:51:33.286Z"
   },
   {
    "duration": 9,
    "start_time": "2024-10-09T05:52:25.328Z"
   },
   {
    "duration": 8,
    "start_time": "2024-10-09T05:52:41.946Z"
   },
   {
    "duration": 3,
    "start_time": "2024-10-09T05:52:46.611Z"
   },
   {
    "duration": 13,
    "start_time": "2024-10-09T05:52:50.352Z"
   },
   {
    "duration": 12,
    "start_time": "2024-10-09T05:52:51.406Z"
   }
  ],
  "colab": {
   "collapsed_sections": [
    "E0vqbgi9ay0H",
    "VUC88oWjTJw2"
   ],
   "provenance": []
  },
  "kernelspec": {
   "display_name": "Python 3 (ipykernel)",
   "language": "python",
   "name": "python3"
  },
  "language_info": {
   "codemirror_mode": {
    "name": "ipython",
    "version": 3
   },
   "file_extension": ".py",
   "mimetype": "text/x-python",
   "name": "python",
   "nbconvert_exporter": "python",
   "pygments_lexer": "ipython3",
   "version": "3.9.19"
  },
  "toc": {
   "base_numbering": 1,
   "nav_menu": {},
   "number_sections": true,
   "sideBar": true,
   "skip_h1_title": true,
   "title_cell": "Table of Contents",
   "title_sidebar": "Contents",
   "toc_cell": false,
   "toc_position": {},
   "toc_section_display": true,
   "toc_window_display": false
  }
 },
 "nbformat": 4,
 "nbformat_minor": 1
}
